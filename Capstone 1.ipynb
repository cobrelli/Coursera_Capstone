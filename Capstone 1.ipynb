{
 "cells": [
  {
   "cell_type": "markdown",
   "id": "f7acf795-3056-4814-a078-6e4f39c54ad2",
   "metadata": {},
   "source": [
    "<h1>Applied Data Science Capstone Project</h1>\n",
    "\n",
    "<p>This notebook was put together for the IBM Data Science certificate capstone project. This first version will describe the business problem of the capstone and related data to solve problem.</p>\n",
    "\n",
    "<h3>The business idea</h3>\n",
    "<p>I have a friend who is considering on moving to the Capital area in Finland who has never lived in the area and is unaware of the neighbourhoods. Coming from rural areas he's a mainly concerned about about finding a location to live where: a) The pricing is not too expensive b) the available public transport to his new workplace in Otaniemi would be relative fast (45 - 60min max by public transport) c) the place is not too restless and unsafe d) there would be parks, gardens, cafeterias etc for unwinding on free time.</p>\n",
    "\n",
    "<p>As the capital area is relatively large there are a lot of different neighbourhoods to choose from. There are certain \"bad\" neighbourhoods where the crimes are more common. These neighbourhoods usually also are either located in the transit hubs or have more bars etc in the areas. The speed of the public transportation also varies quite a bit depending on how many transit changes are required and how close the start and end points are to the main hubs. While the prices in the whole capital area are quite high in relation to other areas there is also a lot of difference across the neighbourhoods. The more quiet areas with more parks and less density of population are usually also quite far in terms of public transport.</p>\n",
    "\n",
    "<p>It would be interesting to have a service that would recommend neighbourhoods based on this criteria when planning to purchase an apartment. Personally I spent around 8 months hunting for an apartment and trying to figure out the neighbourhoods. </p>\n",
    "\n",
    "<h3>The data</h3>\n",
    "<p>Solving this problem requires quite a few separate services to obtain the data. The main types of data that we will need to solve the problem are: location data with different venues, data of the crime rates, dataset or a service to build the data set from the distances and estimated travel, average prices data for the neighbourhoods.</p>\n",
    "\n",
    "<p><b>Location data</b> will come from FourSquare the data will be used to evaluate the \"restlessness\" or how lively the neighbourhood is and to obtain the most common types of venues and trying to make some recommendations based on the most desired venue types.</p>\n",
    "\n",
    "<p>Since getting it from a primary source per neighbourhoods is quite hard <b>the crime data</b> will come from infogram that has been published in a newspaper and been built from data coming from Statistics Finland and the police. The data will be used to visualise the crime occurances on a map and as one basis for evaluating the optimum neighbourhood.</p>\n",
    "\n",
    "<p>Since getting it from a primary source per neighbourhoods is quite hard <b>the crime data</b> will come from infogram that has been published in a newspaper and been built from data coming from Statistics Finland and the police. The data will be used to visualise the crime occurances on a map and as one basis for evaluating the optimal neighbourhood.</p>\n",
    "\n",
    "<p><b>The public transport data</b> will be acquired from HSL which is the public transport provider for the whole capital area. The collected data will be used to rank the neighbourhoods based on the speed of the transport and to restrict neighbourhoods that are too far from the home to work transit time requirements.</p>"
   ]
  },
  {
   "cell_type": "code",
   "execution_count": null,
   "id": "a2480c0b-7224-455e-95ab-411fd3a58a7c",
   "metadata": {},
   "outputs": [],
   "source": []
  },
  {
   "cell_type": "code",
   "execution_count": null,
   "id": "2d4fe68c-3d4c-4d90-8594-52e560f5e088",
   "metadata": {},
   "outputs": [],
   "source": []
  }
 ],
 "metadata": {
  "kernelspec": {
   "display_name": "Python 3",
   "language": "python",
   "name": "python3"
  },
  "language_info": {
   "codemirror_mode": {
    "name": "ipython",
    "version": 3
   },
   "file_extension": ".py",
   "mimetype": "text/x-python",
   "name": "python",
   "nbconvert_exporter": "python",
   "pygments_lexer": "ipython3",
   "version": "3.8.5"
  }
 },
 "nbformat": 4,
 "nbformat_minor": 5
}
