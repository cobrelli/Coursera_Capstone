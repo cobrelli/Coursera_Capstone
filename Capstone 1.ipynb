{
 "cells": [
  {
   "cell_type": "markdown",
   "id": "f7acf795-3056-4814-a078-6e4f39c54ad2",
   "metadata": {},
   "source": [
    "<h1>Capstone Project</h1>\n",
    "<p>This notebook is intended as a basis for the IBM Data Science certificate capstone project</p>"
   ]
  },
  {
   "cell_type": "code",
   "execution_count": 2,
   "id": "0ef3852e-a6f8-4f6f-b2a9-14bd96f29c36",
   "metadata": {},
   "outputs": [],
   "source": [
    "import pandas as pd\n",
    "import numpy as np"
   ]
  },
  {
   "cell_type": "code",
   "execution_count": 3,
   "id": "410b26e8-90c2-4110-bddb-8986b2e10c90",
   "metadata": {},
   "outputs": [
    {
     "name": "stdout",
     "output_type": "stream",
     "text": [
      "Hello Capstone Project Course!\n"
     ]
    }
   ],
   "source": [
    "print('Hello Capstone Project Course!')"
   ]
  },
  {
   "cell_type": "code",
   "execution_count": null,
   "id": "cfc88612-3c9f-46cf-a814-1a3360052f35",
   "metadata": {},
   "outputs": [],
   "source": []
  }
 ],
 "metadata": {
  "kernelspec": {
   "display_name": "Python 3",
   "language": "python",
   "name": "python3"
  },
  "language_info": {
   "codemirror_mode": {
    "name": "ipython",
    "version": 3
   },
   "file_extension": ".py",
   "mimetype": "text/x-python",
   "name": "python",
   "nbconvert_exporter": "python",
   "pygments_lexer": "ipython3",
   "version": "3.8.5"
  }
 },
 "nbformat": 4,
 "nbformat_minor": 5
}
