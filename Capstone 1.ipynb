{
 "cells": [
  {
   "cell_type": "markdown",
   "id": "f7acf795-3056-4814-a078-6e4f39c54ad2",
   "metadata": {},
   "source": [
    "<h1>Applied Data Science Capstone Project</h1>\n",
    "\n",
    "<p>This notebook was put together for the IBM Data Science certificate capstone project. This first version will describe the business problem of the capstone and related data to solve problem.</p>\n",
    "\n",
    "<h3>The business idea</h3>\n",
    "<p>I have a friend who is considering on moving to the Capital area in Finland who has never lived in the area and is unaware of the neighbourhoods. Coming from rural areas he's a mainly concerned about about finding a location to live where: a) The pricing is not too expensive b) the available public transport to his new workplace in Otaniemi would be relative fast (45 - 60min max by public transport) c) the place is not too restless and unsafe d) there would be parks, gardens, cafeterias etc for unwinding on free time.</p>\n",
    "\n",
    "<p>As the capital area is relatively large there are a lot of different neighbourhoods to choose from. There are certain \"bad\" neighbourhoods where the crimes are more common. These neighbourhoods usually also are either located in the transit hubs or have more bars etc in the areas. The speed of the public transportation also varies quite a bit depending on how many transit changes are required and how close the start and end points are to the main hubs. While the prices in the whole capital area are quite high in relation to other areas there is also a lot of difference across the neighbourhoods. The more quiet areas with more parks and less density of population are usually also quite far in terms of public transport.</p>\n",
    "\n",
    "<p>It would be interesting to have a service that would recommend neighbourhoods based on this criteria when planning to purchase an apartment. Personally I spent around 8 months hunting for an apartment and trying to figure out the neighbourhoods. </p>\n",
    "\n",
    "<p>Since the easiest way to find locations for neighbourhoods in FourSquare and other data sources includes postal codes we will mainly focus on different postal code areas. The actual code areas can include several neighbourhoods inside the area but this will be the precision we're aiming for in this project.</p>"
   ]
  },
  {
   "cell_type": "markdown",
   "id": "66117969-d5be-4f88-8082-c4ad2dffbdeb",
   "metadata": {},
   "source": [
    "<h3>The data</h3>\n",
    "<p>Solving this problem requires quite a few separate services to obtain the data. The main types of data that we will need to solve the problem are: location data with different venues, data of the crime rates, dataset or a service to build the data set from the distances and estimated travel, average prices data for the neighbourhoods.</p>\n",
    "\n",
    "<p><b>Location data</b> will come from FourSquare the data will be used to evaluate the \"restlessness\" or how lively the neighbourhood is and to obtain the most common types of venues and trying to make some recommendations based on the most desired venue types.</p>\n",
    "\n",
    "<p>Since getting it from a primary source per neighbourhoods is quite hard <b>the crime data</b> will come from infogram that has been published in a newspaper and been built from data coming from Statistics Finland and the police. The data will be used to visualise the crime occurances on a map and as one basis for evaluating the optimum neighbourhood.</p>\n",
    "\n",
    "<p><b>The average prices data</b> will be acquired from Statistics Finland and the obtained csv will have to be wrangled a bit to produce the average price of the apartments. The data will be used for ranking the neighbourhoods.</p>\n",
    "\n",
    "<p><b>The public transport data</b> will be acquired from HSL which is the public transport provider for the whole capital area. The collected data will be used to rank the neighbourhoods based on the speed of the transport and to restrict neighbourhoods that are too far from the home to work transit time requirements.</p>\n",
    "\n",
    "<p>To visualise the mentioned data on the map we will also need to obtain the geojson borders of the neighbourhoods in the areas. We can obtain the data from HSY Web Features service at <a href=\"https://kartta.hsy.fi/geoserver/wfs\">https://kartta.hsy.fi/geoserver/wfs.</a></p>\n"
   ]
  },
  {
   "cell_type": "markdown",
   "id": "161e869e-2155-44b8-bfc0-f92d6fcc4fa2",
   "metadata": {},
   "source": [
    "First lets import all the dependencies."
   ]
  },
  {
   "cell_type": "code",
   "execution_count": 192,
   "id": "2ec53e69-7506-48a8-9bee-291e53e6a425",
   "metadata": {},
   "outputs": [],
   "source": [
    "import pandas as pd\n",
    "import numpy as np\n",
    "from geopy.geocoders import Nominatim\n",
    "import folium\n",
    "import requests\n",
    "from sklearn.cluster import KMeans\n",
    "import json\n",
    "\n",
    "import matplotlib.cm as cm\n",
    "import matplotlib.colors as colors\n",
    "\n",
    "import geopandas as gp\n",
    "\n",
    "import pyproj\n",
    "from pyproj import CRS\n",
    "\n",
    "from python_graphql_client import GraphqlClient"
   ]
  },
  {
   "cell_type": "markdown",
   "id": "9da50caa-77c4-4406-aa0c-f91d4d8949b3",
   "metadata": {},
   "source": [
    "<b>1. The locations</b>"
   ]
  },
  {
   "cell_type": "markdown",
   "id": "80d78ab6-5a2c-4771-a105-6499f167c7de",
   "metadata": {},
   "source": [
    "To begin solving the problem lets print out the map of the Capital to visualise the area we are discussing about. We can use geopys Notinatim API to to first acquire the location of the mainarea and the workplace and the we can use Folium to print the area on map and mark the workplace there."
   ]
  },
  {
   "cell_type": "code",
   "execution_count": 145,
   "id": "c07fd35c-b538-4080-982f-43af386f3db4",
   "metadata": {},
   "outputs": [
    {
     "name": "stdout",
     "output_type": "stream",
     "text": [
      "The geograpical coordinates of Kannelmäki, Helsinki, Finland is latitude: 60.2436076 and longitude: 24.8832893.\n",
      "The geograpical coordinates of Innopoli 3, Espoo, Finland is latitude: 60.1881158 and longitude: 24.80870540096568.\n"
     ]
    }
   ],
   "source": [
    "# Use a neighbourhood a bit north of the actual city center to center the map on more on the mainland\n",
    "address_kannelmaki = 'Kannelmäki, Helsinki, Finland'\n",
    "\n",
    "geolocator = Nominatim(user_agent=\"helsinki_explorer\")\n",
    "location_kannelmaki = geolocator.geocode(address_kannelmaki)\n",
    "latitude_kannelmaki = location_kannelmaki.latitude\n",
    "longitude_kannelmaki = location_kannelmaki.longitude\n",
    "print('The geograpical coordinates of {} is latitude: {} and longitude: {}.'.format(address_kannelmaki, latitude_kannelmaki, longitude_kannelmaki))\n",
    "\n",
    "# Use a neighbourhood a bit north of the actual city center to center the map on more on the mainland\n",
    "address_workplace = 'Innopoli 3, Espoo, Finland'\n",
    "\n",
    "geolocator = Nominatim(user_agent=\"helsinki_explorer\")\n",
    "location_workplace = geolocator.geocode(address_workplace)\n",
    "latitude_workplace = location_workplace.latitude\n",
    "longitude_workplace = location_workplace.longitude\n",
    "print('The geograpical coordinates of {} is latitude: {} and longitude: {}.'.format(address_workplace, latitude_workplace, longitude_workplace))\n"
   ]
  },
  {
   "cell_type": "code",
   "execution_count": 148,
   "id": "a9ca44db-9090-45ce-b7ab-d6960301cc36",
   "metadata": {},
   "outputs": [
    {
     "data": {
      "text/html": [
       "<div style=\"width:100%;\"><div style=\"position:relative;width:100%;height:0;padding-bottom:60%;\"><span style=\"color:#565656\">Make this Notebook Trusted to load map: File -> Trust Notebook</span><iframe src=\"about:blank\" style=\"position:absolute;width:100%;height:100%;left:0;top:0;border:none !important;\" data-html=%3C%21DOCTYPE%20html%3E%0A%3Chead%3E%20%20%20%20%0A%20%20%20%20%3Cmeta%20http-equiv%3D%22content-type%22%20content%3D%22text/html%3B%20charset%3DUTF-8%22%20/%3E%0A%20%20%20%20%0A%20%20%20%20%20%20%20%20%3Cscript%3E%0A%20%20%20%20%20%20%20%20%20%20%20%20L_NO_TOUCH%20%3D%20false%3B%0A%20%20%20%20%20%20%20%20%20%20%20%20L_DISABLE_3D%20%3D%20false%3B%0A%20%20%20%20%20%20%20%20%3C/script%3E%0A%20%20%20%20%0A%20%20%20%20%3Cstyle%3Ehtml%2C%20body%20%7Bwidth%3A%20100%25%3Bheight%3A%20100%25%3Bmargin%3A%200%3Bpadding%3A%200%3B%7D%3C/style%3E%0A%20%20%20%20%3Cstyle%3E%23map%20%7Bposition%3Aabsolute%3Btop%3A0%3Bbottom%3A0%3Bright%3A0%3Bleft%3A0%3B%7D%3C/style%3E%0A%20%20%20%20%3Cscript%20src%3D%22https%3A//cdn.jsdelivr.net/npm/leaflet%401.6.0/dist/leaflet.js%22%3E%3C/script%3E%0A%20%20%20%20%3Cscript%20src%3D%22https%3A//code.jquery.com/jquery-1.12.4.min.js%22%3E%3C/script%3E%0A%20%20%20%20%3Cscript%20src%3D%22https%3A//maxcdn.bootstrapcdn.com/bootstrap/3.2.0/js/bootstrap.min.js%22%3E%3C/script%3E%0A%20%20%20%20%3Cscript%20src%3D%22https%3A//cdnjs.cloudflare.com/ajax/libs/Leaflet.awesome-markers/2.0.2/leaflet.awesome-markers.js%22%3E%3C/script%3E%0A%20%20%20%20%3Clink%20rel%3D%22stylesheet%22%20href%3D%22https%3A//cdn.jsdelivr.net/npm/leaflet%401.6.0/dist/leaflet.css%22/%3E%0A%20%20%20%20%3Clink%20rel%3D%22stylesheet%22%20href%3D%22https%3A//maxcdn.bootstrapcdn.com/bootstrap/3.2.0/css/bootstrap.min.css%22/%3E%0A%20%20%20%20%3Clink%20rel%3D%22stylesheet%22%20href%3D%22https%3A//maxcdn.bootstrapcdn.com/bootstrap/3.2.0/css/bootstrap-theme.min.css%22/%3E%0A%20%20%20%20%3Clink%20rel%3D%22stylesheet%22%20href%3D%22https%3A//maxcdn.bootstrapcdn.com/font-awesome/4.6.3/css/font-awesome.min.css%22/%3E%0A%20%20%20%20%3Clink%20rel%3D%22stylesheet%22%20href%3D%22https%3A//cdnjs.cloudflare.com/ajax/libs/Leaflet.awesome-markers/2.0.2/leaflet.awesome-markers.css%22/%3E%0A%20%20%20%20%3Clink%20rel%3D%22stylesheet%22%20href%3D%22https%3A//cdn.jsdelivr.net/gh/python-visualization/folium/folium/templates/leaflet.awesome.rotate.min.css%22/%3E%0A%20%20%20%20%0A%20%20%20%20%20%20%20%20%20%20%20%20%3Cmeta%20name%3D%22viewport%22%20content%3D%22width%3Ddevice-width%2C%0A%20%20%20%20%20%20%20%20%20%20%20%20%20%20%20%20initial-scale%3D1.0%2C%20maximum-scale%3D1.0%2C%20user-scalable%3Dno%22%20/%3E%0A%20%20%20%20%20%20%20%20%20%20%20%20%3Cstyle%3E%0A%20%20%20%20%20%20%20%20%20%20%20%20%20%20%20%20%23map_05cb2a82189a4a829c5a6ee9c7a32cd5%20%7B%0A%20%20%20%20%20%20%20%20%20%20%20%20%20%20%20%20%20%20%20%20position%3A%20relative%3B%0A%20%20%20%20%20%20%20%20%20%20%20%20%20%20%20%20%20%20%20%20width%3A%20100.0%25%3B%0A%20%20%20%20%20%20%20%20%20%20%20%20%20%20%20%20%20%20%20%20height%3A%20100.0%25%3B%0A%20%20%20%20%20%20%20%20%20%20%20%20%20%20%20%20%20%20%20%20left%3A%200.0%25%3B%0A%20%20%20%20%20%20%20%20%20%20%20%20%20%20%20%20%20%20%20%20top%3A%200.0%25%3B%0A%20%20%20%20%20%20%20%20%20%20%20%20%20%20%20%20%7D%0A%20%20%20%20%20%20%20%20%20%20%20%20%3C/style%3E%0A%20%20%20%20%20%20%20%20%0A%3C/head%3E%0A%3Cbody%3E%20%20%20%20%0A%20%20%20%20%0A%20%20%20%20%20%20%20%20%20%20%20%20%3Cdiv%20class%3D%22folium-map%22%20id%3D%22map_05cb2a82189a4a829c5a6ee9c7a32cd5%22%20%3E%3C/div%3E%0A%20%20%20%20%20%20%20%20%0A%3C/body%3E%0A%3Cscript%3E%20%20%20%20%0A%20%20%20%20%0A%20%20%20%20%20%20%20%20%20%20%20%20var%20map_05cb2a82189a4a829c5a6ee9c7a32cd5%20%3D%20L.map%28%0A%20%20%20%20%20%20%20%20%20%20%20%20%20%20%20%20%22map_05cb2a82189a4a829c5a6ee9c7a32cd5%22%2C%0A%20%20%20%20%20%20%20%20%20%20%20%20%20%20%20%20%7B%0A%20%20%20%20%20%20%20%20%20%20%20%20%20%20%20%20%20%20%20%20center%3A%20%5B60.2436076%2C%2024.8832893%5D%2C%0A%20%20%20%20%20%20%20%20%20%20%20%20%20%20%20%20%20%20%20%20crs%3A%20L.CRS.EPSG3857%2C%0A%20%20%20%20%20%20%20%20%20%20%20%20%20%20%20%20%20%20%20%20zoom%3A%2010%2C%0A%20%20%20%20%20%20%20%20%20%20%20%20%20%20%20%20%20%20%20%20zoomControl%3A%20true%2C%0A%20%20%20%20%20%20%20%20%20%20%20%20%20%20%20%20%20%20%20%20preferCanvas%3A%20false%2C%0A%20%20%20%20%20%20%20%20%20%20%20%20%20%20%20%20%7D%0A%20%20%20%20%20%20%20%20%20%20%20%20%29%3B%0A%0A%20%20%20%20%20%20%20%20%20%20%20%20%0A%0A%20%20%20%20%20%20%20%20%0A%20%20%20%20%0A%20%20%20%20%20%20%20%20%20%20%20%20var%20tile_layer_4fab7a490e6144c2af9aff25ecf8bc74%20%3D%20L.tileLayer%28%0A%20%20%20%20%20%20%20%20%20%20%20%20%20%20%20%20%22https%3A//%7Bs%7D.tile.openstreetmap.org/%7Bz%7D/%7Bx%7D/%7By%7D.png%22%2C%0A%20%20%20%20%20%20%20%20%20%20%20%20%20%20%20%20%7B%22attribution%22%3A%20%22Data%20by%20%5Cu0026copy%3B%20%5Cu003ca%20href%3D%5C%22http%3A//openstreetmap.org%5C%22%5Cu003eOpenStreetMap%5Cu003c/a%5Cu003e%2C%20under%20%5Cu003ca%20href%3D%5C%22http%3A//www.openstreetmap.org/copyright%5C%22%5Cu003eODbL%5Cu003c/a%5Cu003e.%22%2C%20%22detectRetina%22%3A%20false%2C%20%22maxNativeZoom%22%3A%2018%2C%20%22maxZoom%22%3A%2018%2C%20%22minZoom%22%3A%200%2C%20%22noWrap%22%3A%20false%2C%20%22opacity%22%3A%201%2C%20%22subdomains%22%3A%20%22abc%22%2C%20%22tms%22%3A%20false%7D%0A%20%20%20%20%20%20%20%20%20%20%20%20%29.addTo%28map_05cb2a82189a4a829c5a6ee9c7a32cd5%29%3B%0A%20%20%20%20%20%20%20%20%0A%20%20%20%20%0A%20%20%20%20%20%20%20%20%20%20%20%20var%20circle_marker_7922f55310b44017b1a925aef708ca91%20%3D%20L.circleMarker%28%0A%20%20%20%20%20%20%20%20%20%20%20%20%20%20%20%20%5B60.1881158%2C%2024.80870540096568%5D%2C%0A%20%20%20%20%20%20%20%20%20%20%20%20%20%20%20%20%7B%22bubblingMouseEvents%22%3A%20true%2C%20%22color%22%3A%20%22blue%22%2C%20%22dashArray%22%3A%20null%2C%20%22dashOffset%22%3A%20null%2C%20%22fill%22%3A%20true%2C%20%22fillColor%22%3A%20%22%233186cc%22%2C%20%22fillOpacity%22%3A%200.7%2C%20%22fillRule%22%3A%20%22evenodd%22%2C%20%22lineCap%22%3A%20%22round%22%2C%20%22lineJoin%22%3A%20%22round%22%2C%20%22opacity%22%3A%201.0%2C%20%22radius%22%3A%205%2C%20%22stroke%22%3A%20true%2C%20%22weight%22%3A%203%7D%0A%20%20%20%20%20%20%20%20%20%20%20%20%29.addTo%28map_05cb2a82189a4a829c5a6ee9c7a32cd5%29%3B%0A%20%20%20%20%20%20%20%20%0A%20%20%20%20%0A%20%20%20%20%20%20%20%20var%20popup_31209486806f49169b7da8e9e07b61ff%20%3D%20L.popup%28%7B%22maxWidth%22%3A%20%22100%25%22%7D%29%3B%0A%0A%20%20%20%20%20%20%20%20%0A%20%20%20%20%20%20%20%20%20%20%20%20var%20html_12d3a92cf7964459a09f6216ec876df2%20%3D%20%24%28%60%3Cdiv%20id%3D%22html_12d3a92cf7964459a09f6216ec876df2%22%20style%3D%22width%3A%20100.0%25%3B%20height%3A%20100.0%25%3B%22%3EWorkplace%3C/div%3E%60%29%5B0%5D%3B%0A%20%20%20%20%20%20%20%20%20%20%20%20popup_31209486806f49169b7da8e9e07b61ff.setContent%28html_12d3a92cf7964459a09f6216ec876df2%29%3B%0A%20%20%20%20%20%20%20%20%0A%0A%20%20%20%20%20%20%20%20circle_marker_7922f55310b44017b1a925aef708ca91.bindPopup%28popup_31209486806f49169b7da8e9e07b61ff%29%0A%20%20%20%20%20%20%20%20%3B%0A%0A%20%20%20%20%20%20%20%20%0A%20%20%20%20%0A%3C/script%3E onload=\"this.contentDocument.open();this.contentDocument.write(    decodeURIComponent(this.getAttribute('data-html')));this.contentDocument.close();\" allowfullscreen webkitallowfullscreen mozallowfullscreen></iframe></div></div>"
      ],
      "text/plain": [
       "<folium.folium.Map at 0x7fc1e5946490>"
      ]
     },
     "execution_count": 148,
     "metadata": {},
     "output_type": "execute_result"
    }
   ],
   "source": [
    "# Generate at new folium map from latitude and longitude values\n",
    "map_uusimaa = folium.Map(location=[latitude_kannelmaki, longitude_kannelmaki], zoom_start=10)\n",
    "\n",
    "# Mark the workplace on the map\n",
    "folium.CircleMarker(\n",
    "        [latitude_workplace, longitude_workplace],\n",
    "        radius=5,\n",
    "        popup='Workplace',\n",
    "        color='blue',\n",
    "        fill=True,\n",
    "        fill_color='#3186cc',\n",
    "        fill_opacity=0.7,\n",
    "        parse_html=False).add_to(map_uusimaa) \n",
    "\n",
    "map_uusimaa"
   ]
  },
  {
   "cell_type": "markdown",
   "id": "2f5134f5-eb62-44f1-a419-987773f3ceae",
   "metadata": {},
   "source": [
    "<b>2. Postal code areas, the neighbourhoods and the corresponding geojson</b>"
   ]
  },
  {
   "cell_type": "markdown",
   "id": "f11f741a-73c3-46b2-970f-bd4d2290525b",
   "metadata": {},
   "source": [
    "Next lets load the geojson for neighbourhoods in the capital region. The geojson has been attained from HSY's web features service and converted into geojson. The data has been included in the repository so we can just load it. We use geopandas to load the data. "
   ]
  },
  {
   "cell_type": "code",
   "execution_count": 243,
   "id": "62efa85a-e23b-4dc7-a4a8-c79d7f26507f",
   "metadata": {},
   "outputs": [
    {
     "data": {
      "text/html": [
       "<div>\n",
       "<style scoped>\n",
       "    .dataframe tbody tr th:only-of-type {\n",
       "        vertical-align: middle;\n",
       "    }\n",
       "\n",
       "    .dataframe tbody tr th {\n",
       "        vertical-align: top;\n",
       "    }\n",
       "\n",
       "    .dataframe thead th {\n",
       "        text-align: right;\n",
       "    }\n",
       "</style>\n",
       "<table border=\"1\" class=\"dataframe\">\n",
       "  <thead>\n",
       "    <tr style=\"text-align: right;\">\n",
       "      <th></th>\n",
       "      <th>gml_id</th>\n",
       "      <th>posno</th>\n",
       "      <th>toimip</th>\n",
       "      <th>toimip_ru</th>\n",
       "      <th>nimi</th>\n",
       "      <th>nimi_ru</th>\n",
       "      <th>kunta</th>\n",
       "      <th>kunta_nro</th>\n",
       "      <th>geometry</th>\n",
       "    </tr>\n",
       "  </thead>\n",
       "  <tbody>\n",
       "    <tr>\n",
       "      <th>0</th>\n",
       "      <td>pks_postinumeroalueet_2020.1</td>\n",
       "      <td>00100</td>\n",
       "      <td>HELSINKI</td>\n",
       "      <td>HELSINGFORS</td>\n",
       "      <td>Helsinki Keskusta - Etu-Töölö</td>\n",
       "      <td>Helsingfors centrum - Främre Tölö</td>\n",
       "      <td>Helsinki</td>\n",
       "      <td>091</td>\n",
       "      <td>MULTIPOLYGON (((25495415.010 6673755.420, 2549...</td>\n",
       "    </tr>\n",
       "    <tr>\n",
       "      <th>1</th>\n",
       "      <td>pks_postinumeroalueet_2020.2</td>\n",
       "      <td>00120</td>\n",
       "      <td>HELSINKI</td>\n",
       "      <td>HELSINGFORS</td>\n",
       "      <td>Punavuori</td>\n",
       "      <td>Rödbergen</td>\n",
       "      <td>Helsinki</td>\n",
       "      <td>091</td>\n",
       "      <td>MULTIPOLYGON (((25496720.730 6672703.770, 2549...</td>\n",
       "    </tr>\n",
       "    <tr>\n",
       "      <th>2</th>\n",
       "      <td>pks_postinumeroalueet_2020.3</td>\n",
       "      <td>00130</td>\n",
       "      <td>HELSINKI</td>\n",
       "      <td>HELSINGFORS</td>\n",
       "      <td>Kaartinkaupunki</td>\n",
       "      <td>Gardesstaden</td>\n",
       "      <td>Helsinki</td>\n",
       "      <td>091</td>\n",
       "      <td>MULTIPOLYGON (((25496776.230 6672752.055, 2549...</td>\n",
       "    </tr>\n",
       "    <tr>\n",
       "      <th>3</th>\n",
       "      <td>pks_postinumeroalueet_2020.4</td>\n",
       "      <td>00140</td>\n",
       "      <td>HELSINKI</td>\n",
       "      <td>HELSINGFORS</td>\n",
       "      <td>Kaivopuisto - Ullanlinna</td>\n",
       "      <td>Brunnsparken - Ulrikasborg</td>\n",
       "      <td>Helsinki</td>\n",
       "      <td>091</td>\n",
       "      <td>MULTIPOLYGON (((25497132.180 6672015.420, 2549...</td>\n",
       "    </tr>\n",
       "    <tr>\n",
       "      <th>4</th>\n",
       "      <td>pks_postinumeroalueet_2020.5</td>\n",
       "      <td>00150</td>\n",
       "      <td>HELSINKI</td>\n",
       "      <td>HELSINGFORS</td>\n",
       "      <td>Eira - Hernesaari</td>\n",
       "      <td>Eira - Ärtholmen</td>\n",
       "      <td>Helsinki</td>\n",
       "      <td>091</td>\n",
       "      <td>MULTIPOLYGON (((25496970.120 6671136.315, 2549...</td>\n",
       "    </tr>\n",
       "  </tbody>\n",
       "</table>\n",
       "</div>"
      ],
      "text/plain": [
       "                         gml_id  posno    toimip    toimip_ru  \\\n",
       "0  pks_postinumeroalueet_2020.1  00100  HELSINKI  HELSINGFORS   \n",
       "1  pks_postinumeroalueet_2020.2  00120  HELSINKI  HELSINGFORS   \n",
       "2  pks_postinumeroalueet_2020.3  00130  HELSINKI  HELSINGFORS   \n",
       "3  pks_postinumeroalueet_2020.4  00140  HELSINKI  HELSINGFORS   \n",
       "4  pks_postinumeroalueet_2020.5  00150  HELSINKI  HELSINGFORS   \n",
       "\n",
       "                            nimi                            nimi_ru     kunta  \\\n",
       "0  Helsinki Keskusta - Etu-Töölö  Helsingfors centrum - Främre Tölö  Helsinki   \n",
       "1                      Punavuori                          Rödbergen  Helsinki   \n",
       "2                Kaartinkaupunki                       Gardesstaden  Helsinki   \n",
       "3       Kaivopuisto - Ullanlinna         Brunnsparken - Ulrikasborg  Helsinki   \n",
       "4              Eira - Hernesaari                   Eira - Ärtholmen  Helsinki   \n",
       "\n",
       "  kunta_nro                                           geometry  \n",
       "0       091  MULTIPOLYGON (((25495415.010 6673755.420, 2549...  \n",
       "1       091  MULTIPOLYGON (((25496720.730 6672703.770, 2549...  \n",
       "2       091  MULTIPOLYGON (((25496776.230 6672752.055, 2549...  \n",
       "3       091  MULTIPOLYGON (((25497132.180 6672015.420, 2549...  \n",
       "4       091  MULTIPOLYGON (((25496970.120 6671136.315, 2549...  "
      ]
     },
     "execution_count": 243,
     "metadata": {},
     "output_type": "execute_result"
    }
   ],
   "source": [
    "# Read the file with geopandas\n",
    "neighbourhoods = gp.read_file('postinro_alue.geojson')\n",
    "\n",
    "# Print out first five rows of the data for inspection\n",
    "neighbourhoods.head()"
   ]
  },
  {
   "cell_type": "markdown",
   "id": "064ffa33-6329-4fc3-bc25-f5f3e4b0ae70",
   "metadata": {},
   "source": [
    "From the geometry we can also see that the data is in EPSG:3879 format. To use the geometries in Folium we need to project the geometries to EPSG:4326."
   ]
  },
  {
   "cell_type": "code",
   "execution_count": 244,
   "id": "6cc71adf-527f-406b-a56f-acfd249a9811",
   "metadata": {},
   "outputs": [
    {
     "data": {
      "text/html": [
       "<div>\n",
       "<style scoped>\n",
       "    .dataframe tbody tr th:only-of-type {\n",
       "        vertical-align: middle;\n",
       "    }\n",
       "\n",
       "    .dataframe tbody tr th {\n",
       "        vertical-align: top;\n",
       "    }\n",
       "\n",
       "    .dataframe thead th {\n",
       "        text-align: right;\n",
       "    }\n",
       "</style>\n",
       "<table border=\"1\" class=\"dataframe\">\n",
       "  <thead>\n",
       "    <tr style=\"text-align: right;\">\n",
       "      <th></th>\n",
       "      <th>gml_id</th>\n",
       "      <th>posno</th>\n",
       "      <th>toimip</th>\n",
       "      <th>toimip_ru</th>\n",
       "      <th>nimi</th>\n",
       "      <th>nimi_ru</th>\n",
       "      <th>kunta</th>\n",
       "      <th>kunta_nro</th>\n",
       "      <th>geometry</th>\n",
       "    </tr>\n",
       "  </thead>\n",
       "  <tbody>\n",
       "    <tr>\n",
       "      <th>0</th>\n",
       "      <td>pks_postinumeroalueet_2020.1</td>\n",
       "      <td>00100</td>\n",
       "      <td>HELSINKI</td>\n",
       "      <td>HELSINGFORS</td>\n",
       "      <td>Helsinki Keskusta - Etu-Töölö</td>\n",
       "      <td>Helsingfors centrum - Främre Tölö</td>\n",
       "      <td>Helsinki</td>\n",
       "      <td>091</td>\n",
       "      <td>MULTIPOLYGON (((24.91739 60.17664, 24.91766 60...</td>\n",
       "    </tr>\n",
       "    <tr>\n",
       "      <th>1</th>\n",
       "      <td>pks_postinumeroalueet_2020.2</td>\n",
       "      <td>00120</td>\n",
       "      <td>HELSINKI</td>\n",
       "      <td>HELSINGFORS</td>\n",
       "      <td>Punavuori</td>\n",
       "      <td>Rödbergen</td>\n",
       "      <td>Helsinki</td>\n",
       "      <td>091</td>\n",
       "      <td>MULTIPOLYGON (((24.94093 60.16721, 24.94107 60...</td>\n",
       "    </tr>\n",
       "    <tr>\n",
       "      <th>2</th>\n",
       "      <td>pks_postinumeroalueet_2020.3</td>\n",
       "      <td>00130</td>\n",
       "      <td>HELSINKI</td>\n",
       "      <td>HELSINGFORS</td>\n",
       "      <td>Kaartinkaupunki</td>\n",
       "      <td>Gardesstaden</td>\n",
       "      <td>Helsinki</td>\n",
       "      <td>091</td>\n",
       "      <td>MULTIPOLYGON (((24.94193 60.16764, 24.95107 60...</td>\n",
       "    </tr>\n",
       "    <tr>\n",
       "      <th>3</th>\n",
       "      <td>pks_postinumeroalueet_2020.4</td>\n",
       "      <td>00140</td>\n",
       "      <td>HELSINKI</td>\n",
       "      <td>HELSINGFORS</td>\n",
       "      <td>Kaivopuisto - Ullanlinna</td>\n",
       "      <td>Brunnsparken - Ulrikasborg</td>\n",
       "      <td>Helsinki</td>\n",
       "      <td>091</td>\n",
       "      <td>MULTIPOLYGON (((24.94835 60.16103, 24.94846 60...</td>\n",
       "    </tr>\n",
       "    <tr>\n",
       "      <th>4</th>\n",
       "      <td>pks_postinumeroalueet_2020.5</td>\n",
       "      <td>00150</td>\n",
       "      <td>HELSINKI</td>\n",
       "      <td>HELSINGFORS</td>\n",
       "      <td>Eira - Hernesaari</td>\n",
       "      <td>Eira - Ärtholmen</td>\n",
       "      <td>Helsinki</td>\n",
       "      <td>091</td>\n",
       "      <td>MULTIPOLYGON (((24.94545 60.15314, 24.94237 60...</td>\n",
       "    </tr>\n",
       "  </tbody>\n",
       "</table>\n",
       "</div>"
      ],
      "text/plain": [
       "                         gml_id  posno    toimip    toimip_ru  \\\n",
       "0  pks_postinumeroalueet_2020.1  00100  HELSINKI  HELSINGFORS   \n",
       "1  pks_postinumeroalueet_2020.2  00120  HELSINKI  HELSINGFORS   \n",
       "2  pks_postinumeroalueet_2020.3  00130  HELSINKI  HELSINGFORS   \n",
       "3  pks_postinumeroalueet_2020.4  00140  HELSINKI  HELSINGFORS   \n",
       "4  pks_postinumeroalueet_2020.5  00150  HELSINKI  HELSINGFORS   \n",
       "\n",
       "                            nimi                            nimi_ru     kunta  \\\n",
       "0  Helsinki Keskusta - Etu-Töölö  Helsingfors centrum - Främre Tölö  Helsinki   \n",
       "1                      Punavuori                          Rödbergen  Helsinki   \n",
       "2                Kaartinkaupunki                       Gardesstaden  Helsinki   \n",
       "3       Kaivopuisto - Ullanlinna         Brunnsparken - Ulrikasborg  Helsinki   \n",
       "4              Eira - Hernesaari                   Eira - Ärtholmen  Helsinki   \n",
       "\n",
       "  kunta_nro                                           geometry  \n",
       "0       091  MULTIPOLYGON (((24.91739 60.17664, 24.91766 60...  \n",
       "1       091  MULTIPOLYGON (((24.94093 60.16721, 24.94107 60...  \n",
       "2       091  MULTIPOLYGON (((24.94193 60.16764, 24.95107 60...  \n",
       "3       091  MULTIPOLYGON (((24.94835 60.16103, 24.94846 60...  \n",
       "4       091  MULTIPOLYGON (((24.94545 60.15314, 24.94237 60...  "
      ]
     },
     "execution_count": 244,
     "metadata": {},
     "output_type": "execute_result"
    }
   ],
   "source": [
    "# Define the crs of the dataframe\n",
    "neighbourhoods.crs = CRS.from_epsg(3879)\n",
    "\n",
    "# Project to EPSG:4326\n",
    "neighbourhoods = neighbourhoods.to_crs(epsg=4326)\n",
    "\n",
    "# Print the first five rows for inspection\n",
    "neighbourhoods.head()"
   ]
  },
  {
   "cell_type": "markdown",
   "id": "b9a1c509-8e02-4f50-8aca-0f0626b26f13",
   "metadata": {
    "tags": []
   },
   "source": [
    "Lets format the data frame a bit and also translate the names into english."
   ]
  },
  {
   "cell_type": "code",
   "execution_count": 245,
   "id": "ba8f46f4-e4dd-4d10-8bd5-eccdd4dcd246",
   "metadata": {},
   "outputs": [
    {
     "data": {
      "text/html": [
       "<div>\n",
       "<style scoped>\n",
       "    .dataframe tbody tr th:only-of-type {\n",
       "        vertical-align: middle;\n",
       "    }\n",
       "\n",
       "    .dataframe tbody tr th {\n",
       "        vertical-align: top;\n",
       "    }\n",
       "\n",
       "    .dataframe thead th {\n",
       "        text-align: right;\n",
       "    }\n",
       "</style>\n",
       "<table border=\"1\" class=\"dataframe\">\n",
       "  <thead>\n",
       "    <tr style=\"text-align: right;\">\n",
       "      <th></th>\n",
       "      <th>PostalCode</th>\n",
       "      <th>Neighbourhood</th>\n",
       "      <th>Municipality</th>\n",
       "      <th>Geometry</th>\n",
       "    </tr>\n",
       "  </thead>\n",
       "  <tbody>\n",
       "    <tr>\n",
       "      <th>0</th>\n",
       "      <td>00100</td>\n",
       "      <td>Helsinki Keskusta - Etu-Töölö</td>\n",
       "      <td>Helsinki</td>\n",
       "      <td>MULTIPOLYGON (((24.91739 60.17664, 24.91766 60...</td>\n",
       "    </tr>\n",
       "    <tr>\n",
       "      <th>1</th>\n",
       "      <td>00120</td>\n",
       "      <td>Punavuori</td>\n",
       "      <td>Helsinki</td>\n",
       "      <td>MULTIPOLYGON (((24.94093 60.16721, 24.94107 60...</td>\n",
       "    </tr>\n",
       "    <tr>\n",
       "      <th>2</th>\n",
       "      <td>00130</td>\n",
       "      <td>Kaartinkaupunki</td>\n",
       "      <td>Helsinki</td>\n",
       "      <td>MULTIPOLYGON (((24.94193 60.16764, 24.95107 60...</td>\n",
       "    </tr>\n",
       "    <tr>\n",
       "      <th>3</th>\n",
       "      <td>00140</td>\n",
       "      <td>Kaivopuisto - Ullanlinna</td>\n",
       "      <td>Helsinki</td>\n",
       "      <td>MULTIPOLYGON (((24.94835 60.16103, 24.94846 60...</td>\n",
       "    </tr>\n",
       "    <tr>\n",
       "      <th>4</th>\n",
       "      <td>00150</td>\n",
       "      <td>Eira - Hernesaari</td>\n",
       "      <td>Helsinki</td>\n",
       "      <td>MULTIPOLYGON (((24.94545 60.15314, 24.94237 60...</td>\n",
       "    </tr>\n",
       "  </tbody>\n",
       "</table>\n",
       "</div>"
      ],
      "text/plain": [
       "  PostalCode                  Neighbourhood Municipality  \\\n",
       "0      00100  Helsinki Keskusta - Etu-Töölö     Helsinki   \n",
       "1      00120                      Punavuori     Helsinki   \n",
       "2      00130                Kaartinkaupunki     Helsinki   \n",
       "3      00140       Kaivopuisto - Ullanlinna     Helsinki   \n",
       "4      00150              Eira - Hernesaari     Helsinki   \n",
       "\n",
       "                                            Geometry  \n",
       "0  MULTIPOLYGON (((24.91739 60.17664, 24.91766 60...  \n",
       "1  MULTIPOLYGON (((24.94093 60.16721, 24.94107 60...  \n",
       "2  MULTIPOLYGON (((24.94193 60.16764, 24.95107 60...  \n",
       "3  MULTIPOLYGON (((24.94835 60.16103, 24.94846 60...  \n",
       "4  MULTIPOLYGON (((24.94545 60.15314, 24.94237 60...  "
      ]
     },
     "execution_count": 245,
     "metadata": {},
     "output_type": "execute_result"
    }
   ],
   "source": [
    "# We can drop some columns we don't need\n",
    "neighbourhoods = neighbourhoods.drop(labels=['toimip_ru', 'nimi_ru', 'gml_id', 'kunta_nro', 'toimip'], axis = 1)\n",
    "\n",
    "# Lets also rename and translate the columns\n",
    "neighbourhoods.columns = ['PostalCode', 'Neighbourhood', 'Municipality', 'Geometry']\n",
    "\n",
    "# Lets print out the dataframe to see the applied changes\n",
    "neighbourhoods.head()"
   ]
  },
  {
   "cell_type": "markdown",
   "id": "928fe4b4-231f-4cdd-a592-ac1bea1bdb31",
   "metadata": {},
   "source": [
    "Examine the dimensions of the dataframe."
   ]
  },
  {
   "cell_type": "code",
   "execution_count": 246,
   "id": "c1965bbe-ee59-4fbb-87ec-694e15433ad6",
   "metadata": {},
   "outputs": [
    {
     "data": {
      "text/plain": [
       "(172, 4)"
      ]
     },
     "execution_count": 246,
     "metadata": {},
     "output_type": "execute_result"
    }
   ],
   "source": [
    "neighbourhoods.shape"
   ]
  },
  {
   "cell_type": "markdown",
   "id": "852173b0-774b-480a-8dce-181930b83f77",
   "metadata": {},
   "source": [
    "<b>3. Transit data via HSL</b>"
   ]
  },
  {
   "cell_type": "markdown",
   "id": "d5a1f28b-6712-46d5-a474-627ea59d7ef6",
   "metadata": {
    "tags": []
   },
   "source": [
    "To calculate the distances to different postal code areas we need to access the HSL GraphQL API. The documentation for the API is available <a href=\"https://digitransit.fi/en/developers/apis/1-routing-api/x-advanced/\">here</a>. We will use python_graphql_client library for querying the API. The postal code areas can be somewhat large and differ between the actual apartment destination, but we will just cut some corners and estimate based on whatever coordinates the Nominatim library provides for the postal code."
   ]
  },
  {
   "cell_type": "markdown",
   "id": "96b3dd50-86eb-4cad-91eb-eaafdb564199",
   "metadata": {},
   "source": [
    "Lets first setup the client and the query for loading the transit data. Since we are estimating the time to workplace then lets assume that we want to get there around the rush hour. Lets plan the routes to start on monday at eight in the morning."
   ]
  },
  {
   "cell_type": "code",
   "execution_count": 236,
   "id": "667aa1d6-1ba3-40a2-9b9a-7f8f8568a8c6",
   "metadata": {},
   "outputs": [],
   "source": [
    "# Setup endpoint to Helsinki area graphql api\n",
    "endpoint = \"https://api.digitransit.fi/routing/v1/routers/hsl/index/graphql\"\n",
    "# Setup the client\n",
    "client = GraphqlClient(endpoint=endpoint)\n",
    "\n",
    "# Define the query\n",
    "query = \"\"\"\n",
    "    query planQuery($start: InputCoordinates, $end: InputCoordinates) {\n",
    "        plan(\n",
    "            from: $start\n",
    "            to: $end\n",
    "            date: \"2021-06-07\"\n",
    "            time: \"08:00:00\"\n",
    "        ) {\n",
    "            itineraries {\n",
    "                duration\n",
    "            }\n",
    "        }\n",
    "    }\n",
    "\"\"\""
   ]
  },
  {
   "cell_type": "markdown",
   "id": "04e1f713-8480-4af3-918b-0490437a9070",
   "metadata": {},
   "source": [
    "Then lets define some test location and use it in the query to validate that the query is working and to check how the data looks."
   ]
  },
  {
   "cell_type": "code",
   "execution_count": 259,
   "id": "6018ed34-ef64-4ad8-af02-0d638e55e444",
   "metadata": {},
   "outputs": [
    {
     "name": "stdout",
     "output_type": "stream",
     "text": [
      "[{'duration': 1979}, {'duration': 1979}, {'duration': 1919}]\n"
     ]
    }
   ],
   "source": [
    "# Get the location for the first postcode in the dataframe\n",
    "address_hsy_test = '00100, Finland'\n",
    "\n",
    "geolocator = Nominatim(user_agent=\"helsinki_explorer\")\n",
    "location_hsy_test = geolocator.geocode(address_hsy_test)\n",
    "latitude_hsy_test = location_hsy_test.latitude\n",
    "longitude_hsy_test = location_hsy_test.longitude\n",
    "\n",
    "# Setup some test variables\n",
    "variables = { \"start\": {\"lat\": latitude_hsy_test, \"lon\": longitude_hsy_test}, \"end\": {\"lat\": latitude_workplace, \"lon\": longitude_workplace}}\n",
    "\n",
    "# Execute the query\n",
    "data = client.execute(query=query, variables=variables)\n",
    "\n",
    "routes = data['data']['plan']['itineraries'];\n",
    "\n",
    "# Print the data for inspection\n",
    "print(routes)"
   ]
  },
  {
   "cell_type": "markdown",
   "id": "024b46aa-a0fb-4867-9dbf-e1dd037a2776",
   "metadata": {},
   "source": [
    "Looking at the data we can see that for the plan it returns several different route options with varying durations defined in seconds."
   ]
  },
  {
   "cell_type": "code",
   "execution_count": 266,
   "id": "5fcafba6-f650-4003-9833-13752dbc7a0e",
   "metadata": {},
   "outputs": [
    {
     "data": {
      "text/plain": [
       "31"
      ]
     },
     "execution_count": 266,
     "metadata": {},
     "output_type": "execute_result"
    }
   ],
   "source": [
    "# Check the shortest duration, floor to minutes\n",
    "min(map(lambda route: route['duration'], routes)) // 60"
   ]
  },
  {
   "cell_type": "markdown",
   "id": "881f2742-b837-4a02-aa49-fe70e13dcec8",
   "metadata": {},
   "source": [
    "<p>\n",
    "Now lets form the durations dataframe. We will take the postal codes from the neighbourhoods dataframe and use it for looping over the postal codes. Then we will get the postal code using Nominatim and then use the location for querying the data from HSY and append the postal code, lon, lat and the duration into a dataframe.\n",
    "</p>\n",
    "<p>\n",
    "Since the loading will take a long while we will also later save the data into a csv for safety. Also we are somewhat in the mercy of the HSY API so will check the routes that cannot be found and just ignore those postal codes for this project. To avoid the routes not being found the position of the geospatial coordinates could be more intelligent and not just a \"guess\".\n",
    "</p>\n"
   ]
  },
  {
   "cell_type": "code",
   "execution_count": 270,
   "id": "5b748a9c-06b9-4571-a55a-a38678c632b1",
   "metadata": {},
   "outputs": [
    {
     "name": "stdout",
     "output_type": "stream",
     "text": [
      "Unable to find routes for code 00310\n"
     ]
    },
    {
     "name": "stderr",
     "output_type": "stream",
     "text": [
      "WARNING:urllib3.connectionpool:Retrying (Retry(total=1, connect=None, read=None, redirect=None, status=None)) after connection broken by 'ReadTimeoutError(\"HTTPSConnectionPool(host='nominatim.openstreetmap.org', port=443): Read timed out. (read timeout=1)\")': /search?q=01510%2C+Finland&format=json&limit=1\n"
     ]
    },
    {
     "name": "stdout",
     "output_type": "stream",
     "text": [
      "Unable to find routes for code 01800\n",
      "Unable to find routes for code 02290\n"
     ]
    },
    {
     "name": "stderr",
     "output_type": "stream",
     "text": [
      "WARNING:urllib3.connectionpool:Retrying (Retry(total=1, connect=None, read=None, redirect=None, status=None)) after connection broken by 'ReadTimeoutError(\"HTTPSConnectionPool(host='nominatim.openstreetmap.org', port=443): Read timed out. (read timeout=1)\")': /search?q=02680%2C+Finland&format=json&limit=1\n"
     ]
    },
    {
     "name": "stdout",
     "output_type": "stream",
     "text": [
      "Unable to find routes for code 02980\n"
     ]
    },
    {
     "data": {
      "text/html": [
       "<div>\n",
       "<style scoped>\n",
       "    .dataframe tbody tr th:only-of-type {\n",
       "        vertical-align: middle;\n",
       "    }\n",
       "\n",
       "    .dataframe tbody tr th {\n",
       "        vertical-align: top;\n",
       "    }\n",
       "\n",
       "    .dataframe thead th {\n",
       "        text-align: right;\n",
       "    }\n",
       "</style>\n",
       "<table border=\"1\" class=\"dataframe\">\n",
       "  <thead>\n",
       "    <tr style=\"text-align: right;\">\n",
       "      <th></th>\n",
       "      <th>PostalCode</th>\n",
       "      <th>Duration</th>\n",
       "      <th>Longitude</th>\n",
       "      <th>Latitude</th>\n",
       "    </tr>\n",
       "  </thead>\n",
       "  <tbody>\n",
       "    <tr>\n",
       "      <th>0</th>\n",
       "      <td>00100</td>\n",
       "      <td>31</td>\n",
       "      <td>24.933727</td>\n",
       "      <td>60.169989</td>\n",
       "    </tr>\n",
       "    <tr>\n",
       "      <th>1</th>\n",
       "      <td>00120</td>\n",
       "      <td>42</td>\n",
       "      <td>24.939202</td>\n",
       "      <td>60.163562</td>\n",
       "    </tr>\n",
       "    <tr>\n",
       "      <th>2</th>\n",
       "      <td>00130</td>\n",
       "      <td>44</td>\n",
       "      <td>24.947547</td>\n",
       "      <td>60.165009</td>\n",
       "    </tr>\n",
       "    <tr>\n",
       "      <th>3</th>\n",
       "      <td>00140</td>\n",
       "      <td>52</td>\n",
       "      <td>24.952425</td>\n",
       "      <td>60.158122</td>\n",
       "    </tr>\n",
       "    <tr>\n",
       "      <th>4</th>\n",
       "      <td>00150</td>\n",
       "      <td>44</td>\n",
       "      <td>24.938014</td>\n",
       "      <td>60.158939</td>\n",
       "    </tr>\n",
       "  </tbody>\n",
       "</table>\n",
       "</div>"
      ],
      "text/plain": [
       "  PostalCode Duration  Longitude   Latitude\n",
       "0      00100       31  24.933727  60.169989\n",
       "1      00120       42  24.939202  60.163562\n",
       "2      00130       44  24.947547  60.165009\n",
       "3      00140       52  24.952425  60.158122\n",
       "4      00150       44  24.938014  60.158939"
      ]
     },
     "execution_count": 270,
     "metadata": {},
     "output_type": "execute_result"
    }
   ],
   "source": [
    "# Create new dataframe for durations data\n",
    "durations = pd.DataFrame(columns=['PostalCode', 'Duration', 'Longitude', 'Latitude'])\n",
    "\n",
    "# Create a list from the data for looping\n",
    "codes = neighbourhoods['PostalCode']\n",
    "\n",
    "for code in codes:\n",
    "    # Get the geospatial coordinates for the postal code\n",
    "    address = code + ', Finland'\n",
    "    geolocator = Nominatim(user_agent=\"helsinki_explorer\")\n",
    "    hsy_location = geolocator.geocode(address)\n",
    "    hsy_latitude = hsy_location.latitude\n",
    "    hsy_longitude = hsy_location.longitude\n",
    "    \n",
    "    # Setup variables for the query\n",
    "    variables = { \"start\": {\"lat\": hsy_latitude, \"lon\": hsy_longitude}, \"end\": {\"lat\": latitude_workplace, \"lon\": longitude_workplace}}\n",
    "\n",
    "    # Execute the query\n",
    "    data = client.execute(query=query, variables=variables)\n",
    "    \n",
    "    # Extract the itineraries\n",
    "    routes = data['data']['plan']['itineraries']\n",
    "    if (len(routes) == 0):\n",
    "        print('Unable to find routes for code', code)\n",
    "        continue\n",
    "        \n",
    "    # Calculate the minimum duration and convert to minutes\n",
    "    duration = min(map(lambda route: route['duration'], routes)) // 60\n",
    "    \n",
    "    # Append to dataframe\n",
    "    durations = durations.append(\n",
    "        { 'PostalCode': code, 'Duration': duration, 'Latitude': hsy_latitude, 'Longitude': hsy_longitude },\n",
    "        ignore_index=True)\n",
    "    \n",
    "# Inspect the data\n",
    "durations.head()"
   ]
  },
  {
   "cell_type": "code",
   "execution_count": 272,
   "id": "09ede4eb-37fd-41ac-8051-e16bcf2d4ff0",
   "metadata": {},
   "outputs": [],
   "source": [
    "# Add the dataframe for safety, in case the queries fail you could just load the data from the repo\n",
    "# durations.to_csv('postinro_durations.csv', index=False)\n",
    "# durations = pd.read_csv('postinro_durations.csv')"
   ]
  },
  {
   "cell_type": "markdown",
   "id": "a2c74640-c6cd-4992-baa9-cd65b50db451",
   "metadata": {},
   "source": [
    "Seems like the API could not find routes for a few of the routes. Lets investigate a bit. To see how much data we got in comparison to the original post codes data. We will ignore the postal codes for this project."
   ]
  },
  {
   "cell_type": "code",
   "execution_count": 274,
   "id": "828e3124-7299-43af-8596-f71347d30029",
   "metadata": {},
   "outputs": [
    {
     "name": "stdout",
     "output_type": "stream",
     "text": [
      "(168, 4)\n",
      "(172, 4)\n"
     ]
    }
   ],
   "source": [
    "# Check the obtained durations data dimensions\n",
    "print(durations.shape)\n",
    "# Check the neighbourhoods data dimensions\n",
    "print(neighbourhoods.shape)"
   ]
  },
  {
   "cell_type": "markdown",
   "id": "bd003ed7-5a0e-4c56-b64b-139cd0ff3269",
   "metadata": {},
   "source": [
    "<b>4. Average apartment prices data</b>"
   ]
  },
  {
   "cell_type": "markdown",
   "id": "155d9c7d-de11-4f29-9c15-88f90b2ac2b1",
   "metadata": {},
   "source": [
    "The price data has been exported from Statistics Finland service. The prices includes apartment prices for 2020 for all types and ages of apartments. The last row for each postal code includes the average of all types and ages of apartments sold weighed by the amount sales."
   ]
  },
  {
   "cell_type": "markdown",
   "id": "9365078b-d133-4896-b764-e8a948afbb56",
   "metadata": {},
   "source": [
    "First lets check how the average prices csv looks."
   ]
  },
  {
   "cell_type": "code",
   "execution_count": 309,
   "id": "da5cb7e1-de50-4699-aa1e-e5264bbc7307",
   "metadata": {},
   "outputs": [
    {
     "name": "stdout",
     "output_type": "stream",
     "text": [
      "112q -- Vanhojen osakeasuntojen keskihinnat ja kauppojen lukumäärät postinumeroalueittain ja rakennusvuosittain, 2010-2020;;;\n",
      "\n",
      ";;;\n",
      "\n",
      "Postinumero;Talotyyppi;Rakennusvuosi;2020 Neliöhinta (EUR/m2)\n",
      "\n",
      "00100 Helsinki Keskusta - Etu-Töölö   (Helsinki );Kerrostalo yksiöt;-1949;..\n",
      "\n",
      "00100 Helsinki Keskusta - Etu-Töölö   (Helsinki );Kerrostalo yksiöt;1950-1959;..\n",
      "\n"
     ]
    }
   ],
   "source": [
    "# Open the file\n",
    "with open('asuntojen_hinnat_2020_statfi_utf8.csv') as f:\n",
    "    # Read the first 5 rows of the data\n",
    "    head = [next(f) for x in range(5)]\n",
    "\n",
    "    # Print out the head\n",
    "    for row in head:\n",
    "        print(row)"
   ]
  },
  {
   "cell_type": "markdown",
   "id": "80301447-0906-4ca6-a110-1f3359f7cb01",
   "metadata": {},
   "source": [
    "Looking at the rows we can see that the resulting csv is not very clean so first we have to load the csv and clean it a bit to be able to store it into a pandas dataframe. There is quite many rows for each of the postal codes and we're only interested in the last row so we will use a dict for containing the postal codes and the data and loop over the data so that the final value for each postal code will be the last row."
   ]
  },
  {
   "cell_type": "code",
   "execution_count": 310,
   "id": "e4fcfb98-5938-400b-ad4c-af4908a687f5",
   "metadata": {},
   "outputs": [
    {
     "data": {
      "text/html": [
       "<div>\n",
       "<style scoped>\n",
       "    .dataframe tbody tr th:only-of-type {\n",
       "        vertical-align: middle;\n",
       "    }\n",
       "\n",
       "    .dataframe tbody tr th {\n",
       "        vertical-align: top;\n",
       "    }\n",
       "\n",
       "    .dataframe thead th {\n",
       "        text-align: right;\n",
       "    }\n",
       "</style>\n",
       "<table border=\"1\" class=\"dataframe\">\n",
       "  <thead>\n",
       "    <tr style=\"text-align: right;\">\n",
       "      <th></th>\n",
       "      <th>PostalCode</th>\n",
       "      <th>AveragePrice</th>\n",
       "    </tr>\n",
       "  </thead>\n",
       "  <tbody>\n",
       "    <tr>\n",
       "      <th>0</th>\n",
       "      <td>00100</td>\n",
       "      <td>7587</td>\n",
       "    </tr>\n",
       "    <tr>\n",
       "      <th>1</th>\n",
       "      <td>00120</td>\n",
       "      <td>8182</td>\n",
       "    </tr>\n",
       "    <tr>\n",
       "      <th>2</th>\n",
       "      <td>00130</td>\n",
       "      <td>7855</td>\n",
       "    </tr>\n",
       "    <tr>\n",
       "      <th>3</th>\n",
       "      <td>00140</td>\n",
       "      <td>8712</td>\n",
       "    </tr>\n",
       "    <tr>\n",
       "      <th>4</th>\n",
       "      <td>00150</td>\n",
       "      <td>8401</td>\n",
       "    </tr>\n",
       "  </tbody>\n",
       "</table>\n",
       "</div>"
      ],
      "text/plain": [
       "  PostalCode AveragePrice\n",
       "0      00100         7587\n",
       "1      00120         8182\n",
       "2      00130         7855\n",
       "3      00140         8712\n",
       "4      00150         8401"
      ]
     },
     "execution_count": 310,
     "metadata": {},
     "output_type": "execute_result"
    }
   ],
   "source": [
    "# Prepare the prices dict for collecting the price data\n",
    "prices = {}\n",
    "\n",
    "# Open the prices file\n",
    "with open('asuntojen_hinnat_2020_statfi_utf8.csv') as f:\n",
    "    lines = f.readlines()\n",
    "    # Loop over the lines skipping the 3 header rows\n",
    "    for line in lines[3:]:\n",
    "        # Split the csv row\n",
    "        row = line.split(';')\n",
    "\n",
    "        # Since rows with no sales per type / age of the apartment is marked as '..' we can just ignore the row\n",
    "        if('..' in row[-1]):\n",
    "            continue\n",
    "\n",
    "        # Extract the postal code from the first item in the row\n",
    "        postal_code = row[0].split(' ')[0]\n",
    "\n",
    "        # Set the price for a postal on the dict (only last value will be remembered for each postal code area)\n",
    "        prices[postal_code] = row[-1].replace('\\n', '')\n",
    "\n",
    "# Initialise the dataframe\n",
    "prices_data = pd.DataFrame(columns=['PostalCode', 'AveragePrice'])\n",
    "\n",
    "# Collect the data into the data frame\n",
    "for code in prices.keys():\n",
    "    prices_data = prices_data.append(\n",
    "        { 'PostalCode': code, 'AveragePrice': prices[code] },\n",
    "        ignore_index=True)\n",
    "    \n",
    "# Print the first five rows of the data\n",
    "prices_data.head()"
   ]
  },
  {
   "cell_type": "markdown",
   "id": "e01e58b4-c91d-4611-a26c-3f02cea1c4c3",
   "metadata": {},
   "source": [
    "<b>5. The crime data</b>"
   ]
  },
  {
   "cell_type": "code",
   "execution_count": null,
   "id": "ce2d24c0-160c-401f-9f01-b5f427a12734",
   "metadata": {},
   "outputs": [],
   "source": []
  },
  {
   "cell_type": "code",
   "execution_count": null,
   "id": "109f4ad8-84b9-4f49-a527-c6e825cd8638",
   "metadata": {},
   "outputs": [],
   "source": []
  },
  {
   "cell_type": "markdown",
   "id": "66b52bd5-6f59-4ac0-85ae-16e80a903f3a",
   "metadata": {},
   "source": [
    "<b>6. Venues data from FourSquare</b>"
   ]
  },
  {
   "cell_type": "code",
   "execution_count": null,
   "id": "58c81f78-67af-4487-8248-47d0b01bd28f",
   "metadata": {},
   "outputs": [],
   "source": []
  }
 ],
 "metadata": {
  "kernelspec": {
   "display_name": "Python 3",
   "language": "python",
   "name": "python3"
  },
  "language_info": {
   "codemirror_mode": {
    "name": "ipython",
    "version": 3
   },
   "file_extension": ".py",
   "mimetype": "text/x-python",
   "name": "python",
   "nbconvert_exporter": "python",
   "pygments_lexer": "ipython3",
   "version": "3.8.5"
  }
 },
 "nbformat": 4,
 "nbformat_minor": 5
}
