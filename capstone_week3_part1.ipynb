{
 "cells": [
  {
   "cell_type": "markdown",
   "id": "943cd086-8db1-4047-9a4b-60d9014fb8a1",
   "metadata": {},
   "source": [
    "<h1>Capstone week 3 part 1</h1>\n",
    "<p>\n",
    "    First part of the <b>Segmenting and Clustering Neighborhoods in Toronto</b> -assignment. The assignment for the first part was to scrape Toronto neighbourhoods data from Wikipedia and wrangle the data into pandas dataframe in predefined format.\n",
    "</p>\n",
    "<p>\n",
    "    The toronto neighbourhoods data with postal codes seems to reside in: <a href=\"https://en.wikipedia.org/wiki/List_of_postal_codes_of_Canada:_M\">https://en.wikipedia.org/wiki/List_of_postal_codes_of_Canada:_M</a>\n",
    "</p>\n",
    "<h3>\n",
    "    Install and import required dependencies\n",
    "</h3>"
   ]
  },
  {
   "cell_type": "code",
   "execution_count": 3,
   "id": "567af9cb-f4f4-40af-b4ff-57e56d0055ad",
   "metadata": {},
   "outputs": [],
   "source": [
    "# Install dependencies (uncomment if needed)\n",
    "#!conda install -c conda-forge bs4 -y"
   ]
  },
  {
   "cell_type": "code",
   "execution_count": 44,
   "id": "3cc94a3c-903d-4061-9253-a08efa282d4e",
   "metadata": {},
   "outputs": [],
   "source": [
    "#import required dependencies\n",
    "from bs4 import BeautifulSoup\n",
    "import pandas as pd\n",
    "import requests\n",
    "import re"
   ]
  },
  {
   "cell_type": "markdown",
   "id": "7056b411-80a7-444a-ad04-4bd595929a00",
   "metadata": {},
   "source": [
    "<h3>Get the data from the site</h3>\n",
    "The url containing the postal and neighbourhood data seems to contain a single table. Lets request the page and insert the text content into the BeautifulSoup for parsing."
   ]
  },
  {
   "cell_type": "code",
   "execution_count": 14,
   "id": "598bcf36-1e9e-4bd2-bcb5-844f6ac543d9",
   "metadata": {},
   "outputs": [],
   "source": [
    "# Set url\n",
    "url = \"https://en.wikipedia.org/wiki/List_of_postal_codes_of_Canada:_M\"\n",
    "# Query the page html\n",
    "page = requests.get(url)\n",
    "# Import the page into bs4\n",
    "soup = BeautifulSoup(page.text, 'html.parser')"
   ]
  },
  {
   "cell_type": "markdown",
   "id": "e608ba83-4b4e-4d18-8162-2571661fcd36",
   "metadata": {},
   "source": [
    "First lets extract the table and its cells from the html."
   ]
  },
  {
   "cell_type": "code",
   "execution_count": 91,
   "id": "29462b20-4b9f-4aa9-8c32-de0295f224ea",
   "metadata": {},
   "outputs": [],
   "source": [
    "# Get table and cells\n",
    "table = soup.find('table')\n",
    "cells = table.find_all('td')"
   ]
  },
  {
   "cell_type": "markdown",
   "id": "0718f1ef-91da-4212-ae22-d81cce130eb2",
   "metadata": {},
   "source": [
    "Now we can prepare the dataframe with columns PostalCode, Borough and Neighbourhood."
   ]
  },
  {
   "cell_type": "code",
   "execution_count": 92,
   "id": "73cd3356-c876-474a-bcbe-1a189b9d5769",
   "metadata": {},
   "outputs": [],
   "source": [
    "# Setup dataframe\n",
    "toronto_neighbourhoods = pd.DataFrame(columns=['PostalCode', 'Borough', 'Neighbourhood'])"
   ]
  },
  {
   "cell_type": "markdown",
   "id": "f5de6318-35ac-4980-a103-5e80de828171",
   "metadata": {},
   "source": [
    "<h3>Parsing the html for neighbourhood data</h3>\n",
    "<p>Looking at the cell content it seems like the postal codes are always bolded, so we can acquire the postal code by finding the b tags. The borough and the neighbourhood seems to be included inside a span tag which we can similarly extract and get the text content for the data. Some postal codes don't seem to have been assigned so we can just ignore those.</p>\n",
    "<p>Since the neighbourhood data is always surrounded by parenthesis we can just first acquire the borough by using a regex to cut out the neighbourhood content. Then to extract the neighbourhoods we can use another regex to get anything inside a parenthesis and then map the found data with a lambda function to clear the parenthesis, then use a join function to join the neighbourhoods. Finally we can replace the / separators with a comma.</p>\n",
    "<p>After cleaning up the data we can append the data into the dataframe</p>"
   ]
  },
  {
   "cell_type": "code",
   "execution_count": 93,
   "id": "2f19a17c-73ff-45f6-8c2c-d68d1f2eafce",
   "metadata": {},
   "outputs": [
    {
     "data": {
      "text/html": [
       "<div>\n",
       "<style scoped>\n",
       "    .dataframe tbody tr th:only-of-type {\n",
       "        vertical-align: middle;\n",
       "    }\n",
       "\n",
       "    .dataframe tbody tr th {\n",
       "        vertical-align: top;\n",
       "    }\n",
       "\n",
       "    .dataframe thead th {\n",
       "        text-align: right;\n",
       "    }\n",
       "</style>\n",
       "<table border=\"1\" class=\"dataframe\">\n",
       "  <thead>\n",
       "    <tr style=\"text-align: right;\">\n",
       "      <th></th>\n",
       "      <th>PostalCode</th>\n",
       "      <th>Borough</th>\n",
       "      <th>Neighbourhood</th>\n",
       "    </tr>\n",
       "  </thead>\n",
       "  <tbody>\n",
       "    <tr>\n",
       "      <th>0</th>\n",
       "      <td>M3A</td>\n",
       "      <td>North York</td>\n",
       "      <td>Parkwoods</td>\n",
       "    </tr>\n",
       "    <tr>\n",
       "      <th>1</th>\n",
       "      <td>M4A</td>\n",
       "      <td>North York</td>\n",
       "      <td>Victoria Village</td>\n",
       "    </tr>\n",
       "    <tr>\n",
       "      <th>2</th>\n",
       "      <td>M5A</td>\n",
       "      <td>Downtown Toronto</td>\n",
       "      <td>Regent Park, Harbourfront</td>\n",
       "    </tr>\n",
       "    <tr>\n",
       "      <th>3</th>\n",
       "      <td>M6A</td>\n",
       "      <td>North York</td>\n",
       "      <td>Lawrence Manor, Lawrence Heights</td>\n",
       "    </tr>\n",
       "    <tr>\n",
       "      <th>4</th>\n",
       "      <td>M7A</td>\n",
       "      <td>Queen's Park</td>\n",
       "      <td>Ontario Provincial Government</td>\n",
       "    </tr>\n",
       "    <tr>\n",
       "      <th>...</th>\n",
       "      <td>...</td>\n",
       "      <td>...</td>\n",
       "      <td>...</td>\n",
       "    </tr>\n",
       "    <tr>\n",
       "      <th>98</th>\n",
       "      <td>M8X</td>\n",
       "      <td>Etobicoke</td>\n",
       "      <td>The Kingsway, Montgomery Road, Old Mill North</td>\n",
       "    </tr>\n",
       "    <tr>\n",
       "      <th>99</th>\n",
       "      <td>M4Y</td>\n",
       "      <td>Downtown Toronto</td>\n",
       "      <td>Church and Wellesley</td>\n",
       "    </tr>\n",
       "    <tr>\n",
       "      <th>100</th>\n",
       "      <td>M7Y</td>\n",
       "      <td>East TorontoBusiness reply mail Processing Cen...</td>\n",
       "      <td>Enclave of M4L</td>\n",
       "    </tr>\n",
       "    <tr>\n",
       "      <th>101</th>\n",
       "      <td>M8Y</td>\n",
       "      <td>Etobicoke</td>\n",
       "      <td>Old Mill South, King's Mill Park, Sunnylea, Hu...</td>\n",
       "    </tr>\n",
       "    <tr>\n",
       "      <th>102</th>\n",
       "      <td>M8Z</td>\n",
       "      <td>Etobicoke</td>\n",
       "      <td>Mimico NW, The Queensway West, South of Bloor,...</td>\n",
       "    </tr>\n",
       "  </tbody>\n",
       "</table>\n",
       "<p>103 rows × 3 columns</p>\n",
       "</div>"
      ],
      "text/plain": [
       "    PostalCode                                            Borough  \\\n",
       "0          M3A                                         North York   \n",
       "1          M4A                                         North York   \n",
       "2          M5A                                   Downtown Toronto   \n",
       "3          M6A                                         North York   \n",
       "4          M7A                                       Queen's Park   \n",
       "..         ...                                                ...   \n",
       "98         M8X                                          Etobicoke   \n",
       "99         M4Y                                   Downtown Toronto   \n",
       "100        M7Y  East TorontoBusiness reply mail Processing Cen...   \n",
       "101        M8Y                                          Etobicoke   \n",
       "102        M8Z                                          Etobicoke   \n",
       "\n",
       "                                         Neighbourhood  \n",
       "0                                            Parkwoods  \n",
       "1                                     Victoria Village  \n",
       "2                            Regent Park, Harbourfront  \n",
       "3                     Lawrence Manor, Lawrence Heights  \n",
       "4                        Ontario Provincial Government  \n",
       "..                                                 ...  \n",
       "98       The Kingsway, Montgomery Road, Old Mill North  \n",
       "99                                Church and Wellesley  \n",
       "100                                     Enclave of M4L  \n",
       "101  Old Mill South, King's Mill Park, Sunnylea, Hu...  \n",
       "102  Mimico NW, The Queensway West, South of Bloor,...  \n",
       "\n",
       "[103 rows x 3 columns]"
      ]
     },
     "execution_count": 93,
     "metadata": {},
     "output_type": "execute_result"
    }
   ],
   "source": [
    "# Go through the cells and clean & build the dataframe\n",
    "for cell in cells:\n",
    "    postal = cell.find('b').get_text()\n",
    "    borough_and_neighbourhoods = cell.find('span').get_text()\n",
    "    \n",
    "    # Ignore postal codes that have no burrough or neighbourhood\n",
    "    if(borough_and_neighbourhoods == 'Not assigned'):\n",
    "        continue\n",
    "    \n",
    "    # Get the borough by cutting out the neighbourhoods\n",
    "    borough = re.sub(r'\\(.*\\).*', '', borough_and_neighbourhoods)\n",
    "    # Join the neighbourhoods by comma and clean the text of parenthesis\n",
    "    neighbourhoods = ','.join(\n",
    "        map(\n",
    "            lambda neighbourhoods: neighbourhoods.replace('(', '').replace(')', ''),\n",
    "            re.findall(r'\\(.*\\)', borough_and_neighbourhoods)\n",
    "        )\n",
    "    ).replace(' /', ',')\n",
    "    \n",
    "    # Append data to dataframe\n",
    "    toronto_neighbourhoods = toronto_neighbourhoods.append(\n",
    "        { 'PostalCode': postal, 'Borough': borough, 'Neighbourhood': neighbourhoods },\n",
    "        ignore_index=True)\n",
    "\n",
    "# Check the data\n",
    "toronto_neighbourhoods"
   ]
  },
  {
   "cell_type": "code",
   "execution_count": 95,
   "id": "cb9713f8-e069-4055-9a08-38bed5506017",
   "metadata": {
    "tags": []
   },
   "outputs": [],
   "source": [
    "# export the dataframe into a csv for easier use for the next part of the assignment\n",
    "# toronto_neighbourhoods.to_csv('toronto_postal_codes.csv', index=False)"
   ]
  },
  {
   "cell_type": "markdown",
   "id": "9f40c457-da46-4a0f-938a-88766c415a73",
   "metadata": {},
   "source": [
    "<h3>Print out the dataframe shape</h3>"
   ]
  },
  {
   "cell_type": "code",
   "execution_count": 94,
   "id": "d6174276-5937-4c48-bae6-60aeaa185b47",
   "metadata": {},
   "outputs": [
    {
     "data": {
      "text/plain": [
       "(103, 3)"
      ]
     },
     "execution_count": 94,
     "metadata": {},
     "output_type": "execute_result"
    }
   ],
   "source": [
    "toronto_neighbourhoods.shape"
   ]
  }
 ],
 "metadata": {
  "kernelspec": {
   "display_name": "Python 3",
   "language": "python",
   "name": "python3"
  },
  "language_info": {
   "codemirror_mode": {
    "name": "ipython",
    "version": 3
   },
   "file_extension": ".py",
   "mimetype": "text/x-python",
   "name": "python",
   "nbconvert_exporter": "python",
   "pygments_lexer": "ipython3",
   "version": "3.8.5"
  }
 },
 "nbformat": 4,
 "nbformat_minor": 5
}
