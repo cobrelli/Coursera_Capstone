{
 "cells": [
  {
   "cell_type": "markdown",
   "id": "f7acf795-3056-4814-a078-6e4f39c54ad2",
   "metadata": {},
   "source": [
    "<h1>Applied Data Science Capstone Project</h1>\n",
    "\n",
    "<p>This notebook was put together for the IBM Data Science certificate capstone project. This first version will describe the business problem of the capstone and related data to solve problem.</p>\n",
    "\n",
    "<h3>The business idea</h3>\n",
    "<p>I have a friend who is considering on moving to the Capital area in Finland who has never lived in the area and is unaware of the neighbourhoods. Coming from rural areas he's a mainly concerned about about finding a location to live where: a) The pricing is not too expensive b) the available public transport to his new workplace in Otaniemi would be relative fast (45 - 60min max by public transport) c) the place is not too restless and unsafe d) there would be parks, gardens, cafeterias etc for unwinding on free time.</p>\n",
    "\n",
    "<p>As the capital area is relatively large there are a lot of different neighbourhoods to choose from. There are certain \"bad\" neighbourhoods where the crimes are more common. These neighbourhoods usually also are either located in the transit hubs or have more bars etc in the areas. The speed of the public transportation also varies quite a bit depending on how many transit changes are required and how close the start and end points are to the main hubs. While the prices in the whole capital area are quite high in relation to other areas there is also a lot of difference across the neighbourhoods. The more quiet areas with more parks and less density of population are usually also quite far in terms of public transport.</p>\n",
    "\n",
    "<p>It would be interesting to have a service that would recommend neighbourhoods based on this criteria when planning to purchase an apartment. Personally I spent around 8 months hunting for an apartment and trying to figure out the neighbourhoods. </p>\n",
    "\n",
    "<p>Since the easiest way to find locations for neighbourhoods in FourSquare and other data sources includes postal codes we will mainly focus on different postal code areas. The actual code areas can include several neighbourhoods inside the area but this will be the precision we're aiming for in this project.</p>"
   ]
  },
  {
   "cell_type": "markdown",
   "id": "66117969-d5be-4f88-8082-c4ad2dffbdeb",
   "metadata": {},
   "source": [
    "<h3>The data</h3>\n",
    "<p>Solving this problem requires quite a few separate services to obtain the data. The main types of data that we will need to solve the problem are: location data with different venues, dataset or a service to build the data set from the distances and estimated travel, average prices data for the neighbourhoods.</p>\n",
    "\n",
    "<p><b>Venue location data</b> will come from FourSquare the data will be used to evaluate the \"restlessness\" or how lively the neighbourhood is and to obtain the most common types of venues and trying to make some recommendations based on the most desired venue types.</p>\n",
    "\n",
    "<p>We can also obtain some <b>living related data</b> arranged by postal codes from Statistics Finland. The dataset and its features can be found <a href=\"https://www.stat.fi/tup/paavo/tietosisalto_ja_esimerkit.html\">here</a>. The data includes median income, unemployment and the living density</p>\n",
    "\n",
    "<p><b>The average prices data</b> will be acquired from Statistics Finland and the obtained csv will have to be wrangled a bit to produce the average price of the apartments. The data will be used for ranking the neighbourhoods.</p>\n",
    "\n",
    "<p><b>The public transport data</b> will be acquired from HSL which is the public transport provider for the whole capital area. The collected data will be used to rank the neighbourhoods based on the speed of the transport and to restrict neighbourhoods that are too far from the home to work transit time requirements.</p>\n",
    "\n",
    "<p>To visualise the mentioned data on the map we will also need to obtain the geojson borders of the neighbourhoods in the areas. We can obtain the data from HSY Web Features service at <a href=\"https://kartta.hsy.fi/geoserver/wfs\">https://kartta.hsy.fi/geoserver/wfs.</a></p>\n"
   ]
  },
  {
   "cell_type": "markdown",
   "id": "161e869e-2155-44b8-bfc0-f92d6fcc4fa2",
   "metadata": {},
   "source": [
    "First lets import all the dependencies."
   ]
  },
  {
   "cell_type": "code",
   "execution_count": 192,
   "id": "2ec53e69-7506-48a8-9bee-291e53e6a425",
   "metadata": {},
   "outputs": [],
   "source": [
    "import pandas as pd\n",
    "import numpy as np\n",
    "from geopy.geocoders import Nominatim\n",
    "import folium\n",
    "import requests\n",
    "from sklearn.cluster import KMeans\n",
    "import json\n",
    "\n",
    "import matplotlib.cm as cm\n",
    "import matplotlib.colors as colors\n",
    "\n",
    "import geopandas as gp\n",
    "\n",
    "import pyproj\n",
    "from pyproj import CRS\n",
    "\n",
    "from python_graphql_client import GraphqlClient"
   ]
  },
  {
   "cell_type": "markdown",
   "id": "9da50caa-77c4-4406-aa0c-f91d4d8949b3",
   "metadata": {},
   "source": [
    "<b>1. The locations</b>"
   ]
  },
  {
   "cell_type": "markdown",
   "id": "80d78ab6-5a2c-4771-a105-6499f167c7de",
   "metadata": {},
   "source": [
    "To begin solving the problem lets print out the map of the Capital to visualise the area we are discussing about. We can use geopys Notinatim API to to first acquire the location of the mainarea and the workplace and the we can use Folium to print the area on map and mark the workplace there."
   ]
  },
  {
   "cell_type": "code",
   "execution_count": 145,
   "id": "c07fd35c-b538-4080-982f-43af386f3db4",
   "metadata": {},
   "outputs": [
    {
     "name": "stdout",
     "output_type": "stream",
     "text": [
      "The geograpical coordinates of Kannelmäki, Helsinki, Finland is latitude: 60.2436076 and longitude: 24.8832893.\n",
      "The geograpical coordinates of Innopoli 3, Espoo, Finland is latitude: 60.1881158 and longitude: 24.80870540096568.\n"
     ]
    }
   ],
   "source": [
    "# Use a neighbourhood a bit north of the actual city center to center the map on more on the mainland\n",
    "address_kannelmaki = 'Kannelmäki, Helsinki, Finland'\n",
    "\n",
    "geolocator = Nominatim(user_agent=\"helsinki_explorer\")\n",
    "location_kannelmaki = geolocator.geocode(address_kannelmaki)\n",
    "latitude_kannelmaki = location_kannelmaki.latitude\n",
    "longitude_kannelmaki = location_kannelmaki.longitude\n",
    "print('The geograpical coordinates of {} is latitude: {} and longitude: {}.'.format(address_kannelmaki, latitude_kannelmaki, longitude_kannelmaki))\n",
    "\n",
    "# Use a neighbourhood a bit north of the actual city center to center the map on more on the mainland\n",
    "address_workplace = 'Innopoli 3, Espoo, Finland'\n",
    "\n",
    "geolocator = Nominatim(user_agent=\"helsinki_explorer\")\n",
    "location_workplace = geolocator.geocode(address_workplace)\n",
    "latitude_workplace = location_workplace.latitude\n",
    "longitude_workplace = location_workplace.longitude\n",
    "print('The geograpical coordinates of {} is latitude: {} and longitude: {}.'.format(address_workplace, latitude_workplace, longitude_workplace))\n"
   ]
  },
  {
   "cell_type": "code",
   "execution_count": 148,
   "id": "a9ca44db-9090-45ce-b7ab-d6960301cc36",
   "metadata": {},
   "outputs": [
    {
     "data": {
      "text/html": [
       "<div style=\"width:100%;\"><div style=\"position:relative;width:100%;height:0;padding-bottom:60%;\"><span style=\"color:#565656\">Make this Notebook Trusted to load map: File -> Trust Notebook</span><iframe src=\"about:blank\" style=\"position:absolute;width:100%;height:100%;left:0;top:0;border:none !important;\" data-html=%3C%21DOCTYPE%20html%3E%0A%3Chead%3E%20%20%20%20%0A%20%20%20%20%3Cmeta%20http-equiv%3D%22content-type%22%20content%3D%22text/html%3B%20charset%3DUTF-8%22%20/%3E%0A%20%20%20%20%0A%20%20%20%20%20%20%20%20%3Cscript%3E%0A%20%20%20%20%20%20%20%20%20%20%20%20L_NO_TOUCH%20%3D%20false%3B%0A%20%20%20%20%20%20%20%20%20%20%20%20L_DISABLE_3D%20%3D%20false%3B%0A%20%20%20%20%20%20%20%20%3C/script%3E%0A%20%20%20%20%0A%20%20%20%20%3Cstyle%3Ehtml%2C%20body%20%7Bwidth%3A%20100%25%3Bheight%3A%20100%25%3Bmargin%3A%200%3Bpadding%3A%200%3B%7D%3C/style%3E%0A%20%20%20%20%3Cstyle%3E%23map%20%7Bposition%3Aabsolute%3Btop%3A0%3Bbottom%3A0%3Bright%3A0%3Bleft%3A0%3B%7D%3C/style%3E%0A%20%20%20%20%3Cscript%20src%3D%22https%3A//cdn.jsdelivr.net/npm/leaflet%401.6.0/dist/leaflet.js%22%3E%3C/script%3E%0A%20%20%20%20%3Cscript%20src%3D%22https%3A//code.jquery.com/jquery-1.12.4.min.js%22%3E%3C/script%3E%0A%20%20%20%20%3Cscript%20src%3D%22https%3A//maxcdn.bootstrapcdn.com/bootstrap/3.2.0/js/bootstrap.min.js%22%3E%3C/script%3E%0A%20%20%20%20%3Cscript%20src%3D%22https%3A//cdnjs.cloudflare.com/ajax/libs/Leaflet.awesome-markers/2.0.2/leaflet.awesome-markers.js%22%3E%3C/script%3E%0A%20%20%20%20%3Clink%20rel%3D%22stylesheet%22%20href%3D%22https%3A//cdn.jsdelivr.net/npm/leaflet%401.6.0/dist/leaflet.css%22/%3E%0A%20%20%20%20%3Clink%20rel%3D%22stylesheet%22%20href%3D%22https%3A//maxcdn.bootstrapcdn.com/bootstrap/3.2.0/css/bootstrap.min.css%22/%3E%0A%20%20%20%20%3Clink%20rel%3D%22stylesheet%22%20href%3D%22https%3A//maxcdn.bootstrapcdn.com/bootstrap/3.2.0/css/bootstrap-theme.min.css%22/%3E%0A%20%20%20%20%3Clink%20rel%3D%22stylesheet%22%20href%3D%22https%3A//maxcdn.bootstrapcdn.com/font-awesome/4.6.3/css/font-awesome.min.css%22/%3E%0A%20%20%20%20%3Clink%20rel%3D%22stylesheet%22%20href%3D%22https%3A//cdnjs.cloudflare.com/ajax/libs/Leaflet.awesome-markers/2.0.2/leaflet.awesome-markers.css%22/%3E%0A%20%20%20%20%3Clink%20rel%3D%22stylesheet%22%20href%3D%22https%3A//cdn.jsdelivr.net/gh/python-visualization/folium/folium/templates/leaflet.awesome.rotate.min.css%22/%3E%0A%20%20%20%20%0A%20%20%20%20%20%20%20%20%20%20%20%20%3Cmeta%20name%3D%22viewport%22%20content%3D%22width%3Ddevice-width%2C%0A%20%20%20%20%20%20%20%20%20%20%20%20%20%20%20%20initial-scale%3D1.0%2C%20maximum-scale%3D1.0%2C%20user-scalable%3Dno%22%20/%3E%0A%20%20%20%20%20%20%20%20%20%20%20%20%3Cstyle%3E%0A%20%20%20%20%20%20%20%20%20%20%20%20%20%20%20%20%23map_05cb2a82189a4a829c5a6ee9c7a32cd5%20%7B%0A%20%20%20%20%20%20%20%20%20%20%20%20%20%20%20%20%20%20%20%20position%3A%20relative%3B%0A%20%20%20%20%20%20%20%20%20%20%20%20%20%20%20%20%20%20%20%20width%3A%20100.0%25%3B%0A%20%20%20%20%20%20%20%20%20%20%20%20%20%20%20%20%20%20%20%20height%3A%20100.0%25%3B%0A%20%20%20%20%20%20%20%20%20%20%20%20%20%20%20%20%20%20%20%20left%3A%200.0%25%3B%0A%20%20%20%20%20%20%20%20%20%20%20%20%20%20%20%20%20%20%20%20top%3A%200.0%25%3B%0A%20%20%20%20%20%20%20%20%20%20%20%20%20%20%20%20%7D%0A%20%20%20%20%20%20%20%20%20%20%20%20%3C/style%3E%0A%20%20%20%20%20%20%20%20%0A%3C/head%3E%0A%3Cbody%3E%20%20%20%20%0A%20%20%20%20%0A%20%20%20%20%20%20%20%20%20%20%20%20%3Cdiv%20class%3D%22folium-map%22%20id%3D%22map_05cb2a82189a4a829c5a6ee9c7a32cd5%22%20%3E%3C/div%3E%0A%20%20%20%20%20%20%20%20%0A%3C/body%3E%0A%3Cscript%3E%20%20%20%20%0A%20%20%20%20%0A%20%20%20%20%20%20%20%20%20%20%20%20var%20map_05cb2a82189a4a829c5a6ee9c7a32cd5%20%3D%20L.map%28%0A%20%20%20%20%20%20%20%20%20%20%20%20%20%20%20%20%22map_05cb2a82189a4a829c5a6ee9c7a32cd5%22%2C%0A%20%20%20%20%20%20%20%20%20%20%20%20%20%20%20%20%7B%0A%20%20%20%20%20%20%20%20%20%20%20%20%20%20%20%20%20%20%20%20center%3A%20%5B60.2436076%2C%2024.8832893%5D%2C%0A%20%20%20%20%20%20%20%20%20%20%20%20%20%20%20%20%20%20%20%20crs%3A%20L.CRS.EPSG3857%2C%0A%20%20%20%20%20%20%20%20%20%20%20%20%20%20%20%20%20%20%20%20zoom%3A%2010%2C%0A%20%20%20%20%20%20%20%20%20%20%20%20%20%20%20%20%20%20%20%20zoomControl%3A%20true%2C%0A%20%20%20%20%20%20%20%20%20%20%20%20%20%20%20%20%20%20%20%20preferCanvas%3A%20false%2C%0A%20%20%20%20%20%20%20%20%20%20%20%20%20%20%20%20%7D%0A%20%20%20%20%20%20%20%20%20%20%20%20%29%3B%0A%0A%20%20%20%20%20%20%20%20%20%20%20%20%0A%0A%20%20%20%20%20%20%20%20%0A%20%20%20%20%0A%20%20%20%20%20%20%20%20%20%20%20%20var%20tile_layer_4fab7a490e6144c2af9aff25ecf8bc74%20%3D%20L.tileLayer%28%0A%20%20%20%20%20%20%20%20%20%20%20%20%20%20%20%20%22https%3A//%7Bs%7D.tile.openstreetmap.org/%7Bz%7D/%7Bx%7D/%7By%7D.png%22%2C%0A%20%20%20%20%20%20%20%20%20%20%20%20%20%20%20%20%7B%22attribution%22%3A%20%22Data%20by%20%5Cu0026copy%3B%20%5Cu003ca%20href%3D%5C%22http%3A//openstreetmap.org%5C%22%5Cu003eOpenStreetMap%5Cu003c/a%5Cu003e%2C%20under%20%5Cu003ca%20href%3D%5C%22http%3A//www.openstreetmap.org/copyright%5C%22%5Cu003eODbL%5Cu003c/a%5Cu003e.%22%2C%20%22detectRetina%22%3A%20false%2C%20%22maxNativeZoom%22%3A%2018%2C%20%22maxZoom%22%3A%2018%2C%20%22minZoom%22%3A%200%2C%20%22noWrap%22%3A%20false%2C%20%22opacity%22%3A%201%2C%20%22subdomains%22%3A%20%22abc%22%2C%20%22tms%22%3A%20false%7D%0A%20%20%20%20%20%20%20%20%20%20%20%20%29.addTo%28map_05cb2a82189a4a829c5a6ee9c7a32cd5%29%3B%0A%20%20%20%20%20%20%20%20%0A%20%20%20%20%0A%20%20%20%20%20%20%20%20%20%20%20%20var%20circle_marker_7922f55310b44017b1a925aef708ca91%20%3D%20L.circleMarker%28%0A%20%20%20%20%20%20%20%20%20%20%20%20%20%20%20%20%5B60.1881158%2C%2024.80870540096568%5D%2C%0A%20%20%20%20%20%20%20%20%20%20%20%20%20%20%20%20%7B%22bubblingMouseEvents%22%3A%20true%2C%20%22color%22%3A%20%22blue%22%2C%20%22dashArray%22%3A%20null%2C%20%22dashOffset%22%3A%20null%2C%20%22fill%22%3A%20true%2C%20%22fillColor%22%3A%20%22%233186cc%22%2C%20%22fillOpacity%22%3A%200.7%2C%20%22fillRule%22%3A%20%22evenodd%22%2C%20%22lineCap%22%3A%20%22round%22%2C%20%22lineJoin%22%3A%20%22round%22%2C%20%22opacity%22%3A%201.0%2C%20%22radius%22%3A%205%2C%20%22stroke%22%3A%20true%2C%20%22weight%22%3A%203%7D%0A%20%20%20%20%20%20%20%20%20%20%20%20%29.addTo%28map_05cb2a82189a4a829c5a6ee9c7a32cd5%29%3B%0A%20%20%20%20%20%20%20%20%0A%20%20%20%20%0A%20%20%20%20%20%20%20%20var%20popup_31209486806f49169b7da8e9e07b61ff%20%3D%20L.popup%28%7B%22maxWidth%22%3A%20%22100%25%22%7D%29%3B%0A%0A%20%20%20%20%20%20%20%20%0A%20%20%20%20%20%20%20%20%20%20%20%20var%20html_12d3a92cf7964459a09f6216ec876df2%20%3D%20%24%28%60%3Cdiv%20id%3D%22html_12d3a92cf7964459a09f6216ec876df2%22%20style%3D%22width%3A%20100.0%25%3B%20height%3A%20100.0%25%3B%22%3EWorkplace%3C/div%3E%60%29%5B0%5D%3B%0A%20%20%20%20%20%20%20%20%20%20%20%20popup_31209486806f49169b7da8e9e07b61ff.setContent%28html_12d3a92cf7964459a09f6216ec876df2%29%3B%0A%20%20%20%20%20%20%20%20%0A%0A%20%20%20%20%20%20%20%20circle_marker_7922f55310b44017b1a925aef708ca91.bindPopup%28popup_31209486806f49169b7da8e9e07b61ff%29%0A%20%20%20%20%20%20%20%20%3B%0A%0A%20%20%20%20%20%20%20%20%0A%20%20%20%20%0A%3C/script%3E onload=\"this.contentDocument.open();this.contentDocument.write(    decodeURIComponent(this.getAttribute('data-html')));this.contentDocument.close();\" allowfullscreen webkitallowfullscreen mozallowfullscreen></iframe></div></div>"
      ],
      "text/plain": [
       "<folium.folium.Map at 0x7fc1e5946490>"
      ]
     },
     "execution_count": 148,
     "metadata": {},
     "output_type": "execute_result"
    }
   ],
   "source": [
    "# Generate at new folium map from latitude and longitude values\n",
    "map_uusimaa = folium.Map(location=[latitude_kannelmaki, longitude_kannelmaki], zoom_start=10)\n",
    "\n",
    "# Mark the workplace on the map\n",
    "folium.CircleMarker(\n",
    "        [latitude_workplace, longitude_workplace],\n",
    "        radius=5,\n",
    "        popup='Workplace',\n",
    "        color='blue',\n",
    "        fill=True,\n",
    "        fill_color='#3186cc',\n",
    "        fill_opacity=0.7,\n",
    "        parse_html=False).add_to(map_uusimaa) \n",
    "\n",
    "map_uusimaa"
   ]
  },
  {
   "cell_type": "markdown",
   "id": "2f5134f5-eb62-44f1-a419-987773f3ceae",
   "metadata": {},
   "source": [
    "<b>2. Postal code areas, the neighbourhoods and the corresponding geojson</b>"
   ]
  },
  {
   "cell_type": "markdown",
   "id": "719262dd-3694-49bf-88ce-b241535e2dbb",
   "metadata": {},
   "source": [
    "You can read more about geojson on <a href=\"https://en.wikipedia.org/wiki/GeoJSON\">wikipedia</a> but basically the geojson is just standard for representing geographical features. The geojson can be of several types like points, polygons, lines etc. For this project we are interested in using geojson polygons to render the boundaries of each postal area.\n",
    "\n",
    "The geojson can contain some extra properties, f.ex here it contains the neighbourhood names, the postal codes etc. The geojson also contains the type of the geometry and the corresponding coordinates."
   ]
  },
  {
   "cell_type": "markdown",
   "id": "f11f741a-73c3-46b2-970f-bd4d2290525b",
   "metadata": {},
   "source": [
    "Next lets load the geojson for neighbourhoods in the capital region. The geojson has been attained from HSY's web features service and converted into geojson. The data has been included in the repository so we can just load it. We use geopandas to load the data. "
   ]
  },
  {
   "cell_type": "code",
   "execution_count": 243,
   "id": "62efa85a-e23b-4dc7-a4a8-c79d7f26507f",
   "metadata": {},
   "outputs": [
    {
     "data": {
      "text/html": [
       "<div>\n",
       "<style scoped>\n",
       "    .dataframe tbody tr th:only-of-type {\n",
       "        vertical-align: middle;\n",
       "    }\n",
       "\n",
       "    .dataframe tbody tr th {\n",
       "        vertical-align: top;\n",
       "    }\n",
       "\n",
       "    .dataframe thead th {\n",
       "        text-align: right;\n",
       "    }\n",
       "</style>\n",
       "<table border=\"1\" class=\"dataframe\">\n",
       "  <thead>\n",
       "    <tr style=\"text-align: right;\">\n",
       "      <th></th>\n",
       "      <th>gml_id</th>\n",
       "      <th>posno</th>\n",
       "      <th>toimip</th>\n",
       "      <th>toimip_ru</th>\n",
       "      <th>nimi</th>\n",
       "      <th>nimi_ru</th>\n",
       "      <th>kunta</th>\n",
       "      <th>kunta_nro</th>\n",
       "      <th>geometry</th>\n",
       "    </tr>\n",
       "  </thead>\n",
       "  <tbody>\n",
       "    <tr>\n",
       "      <th>0</th>\n",
       "      <td>pks_postinumeroalueet_2020.1</td>\n",
       "      <td>00100</td>\n",
       "      <td>HELSINKI</td>\n",
       "      <td>HELSINGFORS</td>\n",
       "      <td>Helsinki Keskusta - Etu-Töölö</td>\n",
       "      <td>Helsingfors centrum - Främre Tölö</td>\n",
       "      <td>Helsinki</td>\n",
       "      <td>091</td>\n",
       "      <td>MULTIPOLYGON (((25495415.010 6673755.420, 2549...</td>\n",
       "    </tr>\n",
       "    <tr>\n",
       "      <th>1</th>\n",
       "      <td>pks_postinumeroalueet_2020.2</td>\n",
       "      <td>00120</td>\n",
       "      <td>HELSINKI</td>\n",
       "      <td>HELSINGFORS</td>\n",
       "      <td>Punavuori</td>\n",
       "      <td>Rödbergen</td>\n",
       "      <td>Helsinki</td>\n",
       "      <td>091</td>\n",
       "      <td>MULTIPOLYGON (((25496720.730 6672703.770, 2549...</td>\n",
       "    </tr>\n",
       "    <tr>\n",
       "      <th>2</th>\n",
       "      <td>pks_postinumeroalueet_2020.3</td>\n",
       "      <td>00130</td>\n",
       "      <td>HELSINKI</td>\n",
       "      <td>HELSINGFORS</td>\n",
       "      <td>Kaartinkaupunki</td>\n",
       "      <td>Gardesstaden</td>\n",
       "      <td>Helsinki</td>\n",
       "      <td>091</td>\n",
       "      <td>MULTIPOLYGON (((25496776.230 6672752.055, 2549...</td>\n",
       "    </tr>\n",
       "    <tr>\n",
       "      <th>3</th>\n",
       "      <td>pks_postinumeroalueet_2020.4</td>\n",
       "      <td>00140</td>\n",
       "      <td>HELSINKI</td>\n",
       "      <td>HELSINGFORS</td>\n",
       "      <td>Kaivopuisto - Ullanlinna</td>\n",
       "      <td>Brunnsparken - Ulrikasborg</td>\n",
       "      <td>Helsinki</td>\n",
       "      <td>091</td>\n",
       "      <td>MULTIPOLYGON (((25497132.180 6672015.420, 2549...</td>\n",
       "    </tr>\n",
       "    <tr>\n",
       "      <th>4</th>\n",
       "      <td>pks_postinumeroalueet_2020.5</td>\n",
       "      <td>00150</td>\n",
       "      <td>HELSINKI</td>\n",
       "      <td>HELSINGFORS</td>\n",
       "      <td>Eira - Hernesaari</td>\n",
       "      <td>Eira - Ärtholmen</td>\n",
       "      <td>Helsinki</td>\n",
       "      <td>091</td>\n",
       "      <td>MULTIPOLYGON (((25496970.120 6671136.315, 2549...</td>\n",
       "    </tr>\n",
       "  </tbody>\n",
       "</table>\n",
       "</div>"
      ],
      "text/plain": [
       "                         gml_id  posno    toimip    toimip_ru  \\\n",
       "0  pks_postinumeroalueet_2020.1  00100  HELSINKI  HELSINGFORS   \n",
       "1  pks_postinumeroalueet_2020.2  00120  HELSINKI  HELSINGFORS   \n",
       "2  pks_postinumeroalueet_2020.3  00130  HELSINKI  HELSINGFORS   \n",
       "3  pks_postinumeroalueet_2020.4  00140  HELSINKI  HELSINGFORS   \n",
       "4  pks_postinumeroalueet_2020.5  00150  HELSINKI  HELSINGFORS   \n",
       "\n",
       "                            nimi                            nimi_ru     kunta  \\\n",
       "0  Helsinki Keskusta - Etu-Töölö  Helsingfors centrum - Främre Tölö  Helsinki   \n",
       "1                      Punavuori                          Rödbergen  Helsinki   \n",
       "2                Kaartinkaupunki                       Gardesstaden  Helsinki   \n",
       "3       Kaivopuisto - Ullanlinna         Brunnsparken - Ulrikasborg  Helsinki   \n",
       "4              Eira - Hernesaari                   Eira - Ärtholmen  Helsinki   \n",
       "\n",
       "  kunta_nro                                           geometry  \n",
       "0       091  MULTIPOLYGON (((25495415.010 6673755.420, 2549...  \n",
       "1       091  MULTIPOLYGON (((25496720.730 6672703.770, 2549...  \n",
       "2       091  MULTIPOLYGON (((25496776.230 6672752.055, 2549...  \n",
       "3       091  MULTIPOLYGON (((25497132.180 6672015.420, 2549...  \n",
       "4       091  MULTIPOLYGON (((25496970.120 6671136.315, 2549...  "
      ]
     },
     "execution_count": 243,
     "metadata": {},
     "output_type": "execute_result"
    }
   ],
   "source": [
    "# Read the file with geopandas\n",
    "neighbourhoods = gp.read_file('postinro_alue.geojson')\n",
    "\n",
    "# Print out first five rows of the data for inspection\n",
    "neighbourhoods.head()"
   ]
  },
  {
   "cell_type": "markdown",
   "id": "064ffa33-6329-4fc3-bc25-f5f3e4b0ae70",
   "metadata": {},
   "source": [
    "From the geometry we can also see that the data is in EPSG:3879 format. To use the geometries in Folium we need to project the geometries to EPSG:4326."
   ]
  },
  {
   "cell_type": "code",
   "execution_count": 244,
   "id": "6cc71adf-527f-406b-a56f-acfd249a9811",
   "metadata": {},
   "outputs": [
    {
     "data": {
      "text/html": [
       "<div>\n",
       "<style scoped>\n",
       "    .dataframe tbody tr th:only-of-type {\n",
       "        vertical-align: middle;\n",
       "    }\n",
       "\n",
       "    .dataframe tbody tr th {\n",
       "        vertical-align: top;\n",
       "    }\n",
       "\n",
       "    .dataframe thead th {\n",
       "        text-align: right;\n",
       "    }\n",
       "</style>\n",
       "<table border=\"1\" class=\"dataframe\">\n",
       "  <thead>\n",
       "    <tr style=\"text-align: right;\">\n",
       "      <th></th>\n",
       "      <th>gml_id</th>\n",
       "      <th>posno</th>\n",
       "      <th>toimip</th>\n",
       "      <th>toimip_ru</th>\n",
       "      <th>nimi</th>\n",
       "      <th>nimi_ru</th>\n",
       "      <th>kunta</th>\n",
       "      <th>kunta_nro</th>\n",
       "      <th>geometry</th>\n",
       "    </tr>\n",
       "  </thead>\n",
       "  <tbody>\n",
       "    <tr>\n",
       "      <th>0</th>\n",
       "      <td>pks_postinumeroalueet_2020.1</td>\n",
       "      <td>00100</td>\n",
       "      <td>HELSINKI</td>\n",
       "      <td>HELSINGFORS</td>\n",
       "      <td>Helsinki Keskusta - Etu-Töölö</td>\n",
       "      <td>Helsingfors centrum - Främre Tölö</td>\n",
       "      <td>Helsinki</td>\n",
       "      <td>091</td>\n",
       "      <td>MULTIPOLYGON (((24.91739 60.17664, 24.91766 60...</td>\n",
       "    </tr>\n",
       "    <tr>\n",
       "      <th>1</th>\n",
       "      <td>pks_postinumeroalueet_2020.2</td>\n",
       "      <td>00120</td>\n",
       "      <td>HELSINKI</td>\n",
       "      <td>HELSINGFORS</td>\n",
       "      <td>Punavuori</td>\n",
       "      <td>Rödbergen</td>\n",
       "      <td>Helsinki</td>\n",
       "      <td>091</td>\n",
       "      <td>MULTIPOLYGON (((24.94093 60.16721, 24.94107 60...</td>\n",
       "    </tr>\n",
       "    <tr>\n",
       "      <th>2</th>\n",
       "      <td>pks_postinumeroalueet_2020.3</td>\n",
       "      <td>00130</td>\n",
       "      <td>HELSINKI</td>\n",
       "      <td>HELSINGFORS</td>\n",
       "      <td>Kaartinkaupunki</td>\n",
       "      <td>Gardesstaden</td>\n",
       "      <td>Helsinki</td>\n",
       "      <td>091</td>\n",
       "      <td>MULTIPOLYGON (((24.94193 60.16764, 24.95107 60...</td>\n",
       "    </tr>\n",
       "    <tr>\n",
       "      <th>3</th>\n",
       "      <td>pks_postinumeroalueet_2020.4</td>\n",
       "      <td>00140</td>\n",
       "      <td>HELSINKI</td>\n",
       "      <td>HELSINGFORS</td>\n",
       "      <td>Kaivopuisto - Ullanlinna</td>\n",
       "      <td>Brunnsparken - Ulrikasborg</td>\n",
       "      <td>Helsinki</td>\n",
       "      <td>091</td>\n",
       "      <td>MULTIPOLYGON (((24.94835 60.16103, 24.94846 60...</td>\n",
       "    </tr>\n",
       "    <tr>\n",
       "      <th>4</th>\n",
       "      <td>pks_postinumeroalueet_2020.5</td>\n",
       "      <td>00150</td>\n",
       "      <td>HELSINKI</td>\n",
       "      <td>HELSINGFORS</td>\n",
       "      <td>Eira - Hernesaari</td>\n",
       "      <td>Eira - Ärtholmen</td>\n",
       "      <td>Helsinki</td>\n",
       "      <td>091</td>\n",
       "      <td>MULTIPOLYGON (((24.94545 60.15314, 24.94237 60...</td>\n",
       "    </tr>\n",
       "  </tbody>\n",
       "</table>\n",
       "</div>"
      ],
      "text/plain": [
       "                         gml_id  posno    toimip    toimip_ru  \\\n",
       "0  pks_postinumeroalueet_2020.1  00100  HELSINKI  HELSINGFORS   \n",
       "1  pks_postinumeroalueet_2020.2  00120  HELSINKI  HELSINGFORS   \n",
       "2  pks_postinumeroalueet_2020.3  00130  HELSINKI  HELSINGFORS   \n",
       "3  pks_postinumeroalueet_2020.4  00140  HELSINKI  HELSINGFORS   \n",
       "4  pks_postinumeroalueet_2020.5  00150  HELSINKI  HELSINGFORS   \n",
       "\n",
       "                            nimi                            nimi_ru     kunta  \\\n",
       "0  Helsinki Keskusta - Etu-Töölö  Helsingfors centrum - Främre Tölö  Helsinki   \n",
       "1                      Punavuori                          Rödbergen  Helsinki   \n",
       "2                Kaartinkaupunki                       Gardesstaden  Helsinki   \n",
       "3       Kaivopuisto - Ullanlinna         Brunnsparken - Ulrikasborg  Helsinki   \n",
       "4              Eira - Hernesaari                   Eira - Ärtholmen  Helsinki   \n",
       "\n",
       "  kunta_nro                                           geometry  \n",
       "0       091  MULTIPOLYGON (((24.91739 60.17664, 24.91766 60...  \n",
       "1       091  MULTIPOLYGON (((24.94093 60.16721, 24.94107 60...  \n",
       "2       091  MULTIPOLYGON (((24.94193 60.16764, 24.95107 60...  \n",
       "3       091  MULTIPOLYGON (((24.94835 60.16103, 24.94846 60...  \n",
       "4       091  MULTIPOLYGON (((24.94545 60.15314, 24.94237 60...  "
      ]
     },
     "execution_count": 244,
     "metadata": {},
     "output_type": "execute_result"
    }
   ],
   "source": [
    "# Define the crs of the dataframe\n",
    "neighbourhoods.crs = CRS.from_epsg(3879)\n",
    "\n",
    "# Project to EPSG:4326\n",
    "neighbourhoods = neighbourhoods.to_crs(epsg=4326)\n",
    "\n",
    "# Print the first five rows for inspection\n",
    "neighbourhoods.head()"
   ]
  },
  {
   "cell_type": "markdown",
   "id": "b9a1c509-8e02-4f50-8aca-0f0626b26f13",
   "metadata": {
    "tags": []
   },
   "source": [
    "Lets format the data frame a bit and also translate the names into english."
   ]
  },
  {
   "cell_type": "code",
   "execution_count": 245,
   "id": "ba8f46f4-e4dd-4d10-8bd5-eccdd4dcd246",
   "metadata": {},
   "outputs": [
    {
     "data": {
      "text/html": [
       "<div>\n",
       "<style scoped>\n",
       "    .dataframe tbody tr th:only-of-type {\n",
       "        vertical-align: middle;\n",
       "    }\n",
       "\n",
       "    .dataframe tbody tr th {\n",
       "        vertical-align: top;\n",
       "    }\n",
       "\n",
       "    .dataframe thead th {\n",
       "        text-align: right;\n",
       "    }\n",
       "</style>\n",
       "<table border=\"1\" class=\"dataframe\">\n",
       "  <thead>\n",
       "    <tr style=\"text-align: right;\">\n",
       "      <th></th>\n",
       "      <th>PostalCode</th>\n",
       "      <th>Neighbourhood</th>\n",
       "      <th>Municipality</th>\n",
       "      <th>Geometry</th>\n",
       "    </tr>\n",
       "  </thead>\n",
       "  <tbody>\n",
       "    <tr>\n",
       "      <th>0</th>\n",
       "      <td>00100</td>\n",
       "      <td>Helsinki Keskusta - Etu-Töölö</td>\n",
       "      <td>Helsinki</td>\n",
       "      <td>MULTIPOLYGON (((24.91739 60.17664, 24.91766 60...</td>\n",
       "    </tr>\n",
       "    <tr>\n",
       "      <th>1</th>\n",
       "      <td>00120</td>\n",
       "      <td>Punavuori</td>\n",
       "      <td>Helsinki</td>\n",
       "      <td>MULTIPOLYGON (((24.94093 60.16721, 24.94107 60...</td>\n",
       "    </tr>\n",
       "    <tr>\n",
       "      <th>2</th>\n",
       "      <td>00130</td>\n",
       "      <td>Kaartinkaupunki</td>\n",
       "      <td>Helsinki</td>\n",
       "      <td>MULTIPOLYGON (((24.94193 60.16764, 24.95107 60...</td>\n",
       "    </tr>\n",
       "    <tr>\n",
       "      <th>3</th>\n",
       "      <td>00140</td>\n",
       "      <td>Kaivopuisto - Ullanlinna</td>\n",
       "      <td>Helsinki</td>\n",
       "      <td>MULTIPOLYGON (((24.94835 60.16103, 24.94846 60...</td>\n",
       "    </tr>\n",
       "    <tr>\n",
       "      <th>4</th>\n",
       "      <td>00150</td>\n",
       "      <td>Eira - Hernesaari</td>\n",
       "      <td>Helsinki</td>\n",
       "      <td>MULTIPOLYGON (((24.94545 60.15314, 24.94237 60...</td>\n",
       "    </tr>\n",
       "  </tbody>\n",
       "</table>\n",
       "</div>"
      ],
      "text/plain": [
       "  PostalCode                  Neighbourhood Municipality  \\\n",
       "0      00100  Helsinki Keskusta - Etu-Töölö     Helsinki   \n",
       "1      00120                      Punavuori     Helsinki   \n",
       "2      00130                Kaartinkaupunki     Helsinki   \n",
       "3      00140       Kaivopuisto - Ullanlinna     Helsinki   \n",
       "4      00150              Eira - Hernesaari     Helsinki   \n",
       "\n",
       "                                            Geometry  \n",
       "0  MULTIPOLYGON (((24.91739 60.17664, 24.91766 60...  \n",
       "1  MULTIPOLYGON (((24.94093 60.16721, 24.94107 60...  \n",
       "2  MULTIPOLYGON (((24.94193 60.16764, 24.95107 60...  \n",
       "3  MULTIPOLYGON (((24.94835 60.16103, 24.94846 60...  \n",
       "4  MULTIPOLYGON (((24.94545 60.15314, 24.94237 60...  "
      ]
     },
     "execution_count": 245,
     "metadata": {},
     "output_type": "execute_result"
    }
   ],
   "source": [
    "# We can drop some columns we don't need\n",
    "neighbourhoods = neighbourhoods.drop(labels=['toimip_ru', 'nimi_ru', 'gml_id', 'kunta_nro', 'toimip'], axis = 1)\n",
    "\n",
    "# Lets also rename and translate the columns\n",
    "neighbourhoods.columns = ['PostalCode', 'Neighbourhood', 'Municipality', 'Geometry']\n",
    "\n",
    "# Lets print out the dataframe to see the applied changes\n",
    "neighbourhoods.head()"
   ]
  },
  {
   "cell_type": "markdown",
   "id": "928fe4b4-231f-4cdd-a592-ac1bea1bdb31",
   "metadata": {},
   "source": [
    "Examine the dimensions of the dataframe."
   ]
  },
  {
   "cell_type": "code",
   "execution_count": 246,
   "id": "c1965bbe-ee59-4fbb-87ec-694e15433ad6",
   "metadata": {},
   "outputs": [
    {
     "data": {
      "text/plain": [
       "(172, 4)"
      ]
     },
     "execution_count": 246,
     "metadata": {},
     "output_type": "execute_result"
    }
   ],
   "source": [
    "neighbourhoods.shape"
   ]
  },
  {
   "cell_type": "markdown",
   "id": "852173b0-774b-480a-8dce-181930b83f77",
   "metadata": {},
   "source": [
    "<b>3. Transit data via HSL</b>"
   ]
  },
  {
   "cell_type": "markdown",
   "id": "d5a1f28b-6712-46d5-a474-627ea59d7ef6",
   "metadata": {
    "tags": []
   },
   "source": [
    "To calculate the distances to different postal code areas we need to access the HSL GraphQL API. The documentation for the API is available <a href=\"https://digitransit.fi/en/developers/apis/1-routing-api/x-advanced/\">here</a>. We will use python_graphql_client library for querying the API. The postal code areas can be somewhat large and differ between the actual apartment destination, but we will just cut some corners and estimate based on whatever coordinates the Nominatim library provides for the postal code."
   ]
  },
  {
   "cell_type": "markdown",
   "id": "96b3dd50-86eb-4cad-91eb-eaafdb564199",
   "metadata": {},
   "source": [
    "Lets first setup the client and the query for loading the transit data. Since we are estimating the time to workplace then lets assume that we want to get there around the rush hour. Lets plan the routes to start on monday at eight in the morning."
   ]
  },
  {
   "cell_type": "code",
   "execution_count": 236,
   "id": "667aa1d6-1ba3-40a2-9b9a-7f8f8568a8c6",
   "metadata": {},
   "outputs": [],
   "source": [
    "# Setup endpoint to Helsinki area graphql api\n",
    "endpoint = \"https://api.digitransit.fi/routing/v1/routers/hsl/index/graphql\"\n",
    "# Setup the client\n",
    "client = GraphqlClient(endpoint=endpoint)\n",
    "\n",
    "# Define the query\n",
    "query = \"\"\"\n",
    "    query planQuery($start: InputCoordinates, $end: InputCoordinates) {\n",
    "        plan(\n",
    "            from: $start\n",
    "            to: $end\n",
    "            date: \"2021-06-07\"\n",
    "            time: \"08:00:00\"\n",
    "        ) {\n",
    "            itineraries {\n",
    "                duration\n",
    "            }\n",
    "        }\n",
    "    }\n",
    "\"\"\""
   ]
  },
  {
   "cell_type": "markdown",
   "id": "04e1f713-8480-4af3-918b-0490437a9070",
   "metadata": {},
   "source": [
    "Then lets define some test location and use it in the query to validate that the query is working and to check how the data looks."
   ]
  },
  {
   "cell_type": "code",
   "execution_count": 259,
   "id": "6018ed34-ef64-4ad8-af02-0d638e55e444",
   "metadata": {},
   "outputs": [
    {
     "name": "stdout",
     "output_type": "stream",
     "text": [
      "[{'duration': 1979}, {'duration': 1979}, {'duration': 1919}]\n"
     ]
    }
   ],
   "source": [
    "# Get the location for the first postcode in the dataframe\n",
    "address_hsy_test = '00100, Finland'\n",
    "\n",
    "geolocator = Nominatim(user_agent=\"helsinki_explorer\")\n",
    "location_hsy_test = geolocator.geocode(address_hsy_test)\n",
    "latitude_hsy_test = location_hsy_test.latitude\n",
    "longitude_hsy_test = location_hsy_test.longitude\n",
    "\n",
    "# Setup some test variables\n",
    "variables = { \"start\": {\"lat\": latitude_hsy_test, \"lon\": longitude_hsy_test}, \"end\": {\"lat\": latitude_workplace, \"lon\": longitude_workplace}}\n",
    "\n",
    "# Execute the query\n",
    "data = client.execute(query=query, variables=variables)\n",
    "\n",
    "routes = data['data']['plan']['itineraries'];\n",
    "\n",
    "# Print the data for inspection\n",
    "print(routes)"
   ]
  },
  {
   "cell_type": "markdown",
   "id": "024b46aa-a0fb-4867-9dbf-e1dd037a2776",
   "metadata": {},
   "source": [
    "Looking at the data we can see that for the plan it returns several different route options with varying durations defined in seconds."
   ]
  },
  {
   "cell_type": "code",
   "execution_count": 266,
   "id": "5fcafba6-f650-4003-9833-13752dbc7a0e",
   "metadata": {},
   "outputs": [
    {
     "data": {
      "text/plain": [
       "31"
      ]
     },
     "execution_count": 266,
     "metadata": {},
     "output_type": "execute_result"
    }
   ],
   "source": [
    "# Check the shortest duration, floor to minutes\n",
    "min(map(lambda route: route['duration'], routes)) // 60"
   ]
  },
  {
   "cell_type": "markdown",
   "id": "881f2742-b837-4a02-aa49-fe70e13dcec8",
   "metadata": {},
   "source": [
    "<p>\n",
    "Now lets form the durations dataframe. We will take the postal codes from the neighbourhoods dataframe and use it for looping over the postal codes. Then we will get the postal code using Nominatim and then use the location for querying the data from HSY and append the postal code, lon, lat and the duration into a dataframe.\n",
    "</p>\n",
    "<p>\n",
    "Since the loading will take a long while we will also later save the data into a csv for safety. Also we are somewhat in the mercy of the HSY API so will check the routes that cannot be found and just ignore those postal codes for this project. To avoid the routes not being found the position of the geospatial coordinates could be more intelligent and not just a \"guess\".\n",
    "</p>\n"
   ]
  },
  {
   "cell_type": "code",
   "execution_count": 270,
   "id": "5b748a9c-06b9-4571-a55a-a38678c632b1",
   "metadata": {},
   "outputs": [
    {
     "name": "stdout",
     "output_type": "stream",
     "text": [
      "Unable to find routes for code 00310\n"
     ]
    },
    {
     "name": "stderr",
     "output_type": "stream",
     "text": [
      "WARNING:urllib3.connectionpool:Retrying (Retry(total=1, connect=None, read=None, redirect=None, status=None)) after connection broken by 'ReadTimeoutError(\"HTTPSConnectionPool(host='nominatim.openstreetmap.org', port=443): Read timed out. (read timeout=1)\")': /search?q=01510%2C+Finland&format=json&limit=1\n"
     ]
    },
    {
     "name": "stdout",
     "output_type": "stream",
     "text": [
      "Unable to find routes for code 01800\n",
      "Unable to find routes for code 02290\n"
     ]
    },
    {
     "name": "stderr",
     "output_type": "stream",
     "text": [
      "WARNING:urllib3.connectionpool:Retrying (Retry(total=1, connect=None, read=None, redirect=None, status=None)) after connection broken by 'ReadTimeoutError(\"HTTPSConnectionPool(host='nominatim.openstreetmap.org', port=443): Read timed out. (read timeout=1)\")': /search?q=02680%2C+Finland&format=json&limit=1\n"
     ]
    },
    {
     "name": "stdout",
     "output_type": "stream",
     "text": [
      "Unable to find routes for code 02980\n"
     ]
    },
    {
     "data": {
      "text/html": [
       "<div>\n",
       "<style scoped>\n",
       "    .dataframe tbody tr th:only-of-type {\n",
       "        vertical-align: middle;\n",
       "    }\n",
       "\n",
       "    .dataframe tbody tr th {\n",
       "        vertical-align: top;\n",
       "    }\n",
       "\n",
       "    .dataframe thead th {\n",
       "        text-align: right;\n",
       "    }\n",
       "</style>\n",
       "<table border=\"1\" class=\"dataframe\">\n",
       "  <thead>\n",
       "    <tr style=\"text-align: right;\">\n",
       "      <th></th>\n",
       "      <th>PostalCode</th>\n",
       "      <th>Duration</th>\n",
       "      <th>Longitude</th>\n",
       "      <th>Latitude</th>\n",
       "    </tr>\n",
       "  </thead>\n",
       "  <tbody>\n",
       "    <tr>\n",
       "      <th>0</th>\n",
       "      <td>00100</td>\n",
       "      <td>31</td>\n",
       "      <td>24.933727</td>\n",
       "      <td>60.169989</td>\n",
       "    </tr>\n",
       "    <tr>\n",
       "      <th>1</th>\n",
       "      <td>00120</td>\n",
       "      <td>42</td>\n",
       "      <td>24.939202</td>\n",
       "      <td>60.163562</td>\n",
       "    </tr>\n",
       "    <tr>\n",
       "      <th>2</th>\n",
       "      <td>00130</td>\n",
       "      <td>44</td>\n",
       "      <td>24.947547</td>\n",
       "      <td>60.165009</td>\n",
       "    </tr>\n",
       "    <tr>\n",
       "      <th>3</th>\n",
       "      <td>00140</td>\n",
       "      <td>52</td>\n",
       "      <td>24.952425</td>\n",
       "      <td>60.158122</td>\n",
       "    </tr>\n",
       "    <tr>\n",
       "      <th>4</th>\n",
       "      <td>00150</td>\n",
       "      <td>44</td>\n",
       "      <td>24.938014</td>\n",
       "      <td>60.158939</td>\n",
       "    </tr>\n",
       "  </tbody>\n",
       "</table>\n",
       "</div>"
      ],
      "text/plain": [
       "  PostalCode Duration  Longitude   Latitude\n",
       "0      00100       31  24.933727  60.169989\n",
       "1      00120       42  24.939202  60.163562\n",
       "2      00130       44  24.947547  60.165009\n",
       "3      00140       52  24.952425  60.158122\n",
       "4      00150       44  24.938014  60.158939"
      ]
     },
     "execution_count": 270,
     "metadata": {},
     "output_type": "execute_result"
    }
   ],
   "source": [
    "# Create new dataframe for durations data\n",
    "durations = pd.DataFrame(columns=['PostalCode', 'Duration', 'Longitude', 'Latitude'])\n",
    "\n",
    "# Create a list from the data for looping\n",
    "codes = neighbourhoods['PostalCode']\n",
    "\n",
    "for code in codes:\n",
    "    # Get the geospatial coordinates for the postal code\n",
    "    address = code + ', Finland'\n",
    "    geolocator = Nominatim(user_agent=\"helsinki_explorer\")\n",
    "    hsy_location = geolocator.geocode(address)\n",
    "    hsy_latitude = hsy_location.latitude\n",
    "    hsy_longitude = hsy_location.longitude\n",
    "    \n",
    "    # Setup variables for the query\n",
    "    variables = { \"start\": {\"lat\": hsy_latitude, \"lon\": hsy_longitude}, \"end\": {\"lat\": latitude_workplace, \"lon\": longitude_workplace}}\n",
    "\n",
    "    # Execute the query\n",
    "    data = client.execute(query=query, variables=variables)\n",
    "    \n",
    "    # Extract the itineraries\n",
    "    routes = data['data']['plan']['itineraries']\n",
    "    if (len(routes) == 0):\n",
    "        print('Unable to find routes for code', code)\n",
    "        continue\n",
    "        \n",
    "    # Calculate the minimum duration and convert to minutes\n",
    "    duration = min(map(lambda route: route['duration'], routes)) // 60\n",
    "    \n",
    "    # Append to dataframe\n",
    "    durations = durations.append(\n",
    "        { 'PostalCode': code, 'Duration': duration, 'Latitude': hsy_latitude, 'Longitude': hsy_longitude },\n",
    "        ignore_index=True)\n",
    "    \n",
    "# Inspect the data\n",
    "durations.head()"
   ]
  },
  {
   "cell_type": "code",
   "execution_count": 272,
   "id": "09ede4eb-37fd-41ac-8051-e16bcf2d4ff0",
   "metadata": {},
   "outputs": [],
   "source": [
    "# Add the dataframe for safety, in case the queries fail you could just load the data from the repo\n",
    "# durations.to_csv('postinro_durations.csv', index=False)\n",
    "# durations = pd.read_csv('postinro_durations.csv')"
   ]
  },
  {
   "cell_type": "markdown",
   "id": "a2c74640-c6cd-4992-baa9-cd65b50db451",
   "metadata": {},
   "source": [
    "Seems like the API could not find routes for a few of the routes. Lets investigate a bit. To see how much data we got in comparison to the original post codes data. We will ignore the postal codes for this project."
   ]
  },
  {
   "cell_type": "code",
   "execution_count": 274,
   "id": "828e3124-7299-43af-8596-f71347d30029",
   "metadata": {},
   "outputs": [
    {
     "name": "stdout",
     "output_type": "stream",
     "text": [
      "(168, 4)\n",
      "(172, 4)\n"
     ]
    }
   ],
   "source": [
    "# Check the obtained durations data dimensions\n",
    "print(durations.shape)\n",
    "# Check the neighbourhoods data dimensions\n",
    "print(neighbourhoods.shape)"
   ]
  },
  {
   "cell_type": "markdown",
   "id": "bd003ed7-5a0e-4c56-b64b-139cd0ff3269",
   "metadata": {},
   "source": [
    "<b>4. Average apartment prices data</b>"
   ]
  },
  {
   "cell_type": "markdown",
   "id": "155d9c7d-de11-4f29-9c15-88f90b2ac2b1",
   "metadata": {},
   "source": [
    "The price data has been exported from Statistics Finland service. The prices includes apartment prices for 2020 for all types and ages of apartments. The last row for each postal code includes the average of all types and ages of apartments sold weighed by the amount sales."
   ]
  },
  {
   "cell_type": "markdown",
   "id": "9365078b-d133-4896-b764-e8a948afbb56",
   "metadata": {},
   "source": [
    "First lets check how the average prices csv looks."
   ]
  },
  {
   "cell_type": "code",
   "execution_count": 309,
   "id": "da5cb7e1-de50-4699-aa1e-e5264bbc7307",
   "metadata": {},
   "outputs": [
    {
     "name": "stdout",
     "output_type": "stream",
     "text": [
      "112q -- Vanhojen osakeasuntojen keskihinnat ja kauppojen lukumäärät postinumeroalueittain ja rakennusvuosittain, 2010-2020;;;\n",
      "\n",
      ";;;\n",
      "\n",
      "Postinumero;Talotyyppi;Rakennusvuosi;2020 Neliöhinta (EUR/m2)\n",
      "\n",
      "00100 Helsinki Keskusta - Etu-Töölö   (Helsinki );Kerrostalo yksiöt;-1949;..\n",
      "\n",
      "00100 Helsinki Keskusta - Etu-Töölö   (Helsinki );Kerrostalo yksiöt;1950-1959;..\n",
      "\n"
     ]
    }
   ],
   "source": [
    "# Open the file\n",
    "with open('asuntojen_hinnat_2020_statfi_utf8.csv') as f:\n",
    "    # Read the first 5 rows of the data\n",
    "    head = [next(f) for x in range(5)]\n",
    "\n",
    "    # Print out the head\n",
    "    for row in head:\n",
    "        print(row)"
   ]
  },
  {
   "cell_type": "markdown",
   "id": "80301447-0906-4ca6-a110-1f3359f7cb01",
   "metadata": {},
   "source": [
    "Looking at the rows we can see that the resulting csv is not very clean so first we have to load the csv and clean it a bit to be able to store it into a pandas dataframe. There is quite many rows for each of the postal codes and we're only interested in the last row so we will use a dict for containing the postal codes and the data and loop over the data so that the final value for each postal code will be the last row."
   ]
  },
  {
   "cell_type": "code",
   "execution_count": 310,
   "id": "e4fcfb98-5938-400b-ad4c-af4908a687f5",
   "metadata": {},
   "outputs": [
    {
     "data": {
      "text/html": [
       "<div>\n",
       "<style scoped>\n",
       "    .dataframe tbody tr th:only-of-type {\n",
       "        vertical-align: middle;\n",
       "    }\n",
       "\n",
       "    .dataframe tbody tr th {\n",
       "        vertical-align: top;\n",
       "    }\n",
       "\n",
       "    .dataframe thead th {\n",
       "        text-align: right;\n",
       "    }\n",
       "</style>\n",
       "<table border=\"1\" class=\"dataframe\">\n",
       "  <thead>\n",
       "    <tr style=\"text-align: right;\">\n",
       "      <th></th>\n",
       "      <th>PostalCode</th>\n",
       "      <th>AveragePrice</th>\n",
       "    </tr>\n",
       "  </thead>\n",
       "  <tbody>\n",
       "    <tr>\n",
       "      <th>0</th>\n",
       "      <td>00100</td>\n",
       "      <td>7587</td>\n",
       "    </tr>\n",
       "    <tr>\n",
       "      <th>1</th>\n",
       "      <td>00120</td>\n",
       "      <td>8182</td>\n",
       "    </tr>\n",
       "    <tr>\n",
       "      <th>2</th>\n",
       "      <td>00130</td>\n",
       "      <td>7855</td>\n",
       "    </tr>\n",
       "    <tr>\n",
       "      <th>3</th>\n",
       "      <td>00140</td>\n",
       "      <td>8712</td>\n",
       "    </tr>\n",
       "    <tr>\n",
       "      <th>4</th>\n",
       "      <td>00150</td>\n",
       "      <td>8401</td>\n",
       "    </tr>\n",
       "  </tbody>\n",
       "</table>\n",
       "</div>"
      ],
      "text/plain": [
       "  PostalCode AveragePrice\n",
       "0      00100         7587\n",
       "1      00120         8182\n",
       "2      00130         7855\n",
       "3      00140         8712\n",
       "4      00150         8401"
      ]
     },
     "execution_count": 310,
     "metadata": {},
     "output_type": "execute_result"
    }
   ],
   "source": [
    "# Prepare the prices dict for collecting the price data\n",
    "prices = {}\n",
    "\n",
    "# Open the prices file\n",
    "with open('asuntojen_hinnat_2020_statfi_utf8.csv') as f:\n",
    "    lines = f.readlines()\n",
    "    # Loop over the lines skipping the 3 header rows\n",
    "    for line in lines[3:]:\n",
    "        # Split the csv row\n",
    "        row = line.split(';')\n",
    "\n",
    "        # Since rows with no sales per type / age of the apartment is marked as '..' we can just ignore the row\n",
    "        if('..' in row[-1]):\n",
    "            continue\n",
    "\n",
    "        # Extract the postal code from the first item in the row\n",
    "        postal_code = row[0].split(' ')[0]\n",
    "\n",
    "        # Set the price for a postal on the dict (only last value will be remembered for each postal code area)\n",
    "        prices[postal_code] = row[-1].replace('\\n', '')\n",
    "\n",
    "# Initialise the dataframe\n",
    "prices_data = pd.DataFrame(columns=['PostalCode', 'AveragePrice'])\n",
    "\n",
    "# Collect the data into the data frame\n",
    "for code in prices.keys():\n",
    "    prices_data = prices_data.append(\n",
    "        { 'PostalCode': code, 'AveragePrice': prices[code] },\n",
    "        ignore_index=True)\n",
    "    \n",
    "# Print the first five rows of the data\n",
    "prices_data.head()"
   ]
  },
  {
   "cell_type": "markdown",
   "id": "e01e58b4-c91d-4611-a26c-3f02cea1c4c3",
   "metadata": {},
   "source": [
    "<b>5. Living indicators based on postal code</b>"
   ]
  },
  {
   "cell_type": "markdown",
   "id": "4da388e0-6a73-4859-8274-563cd1557562",
   "metadata": {},
   "source": [
    "Next we will prepare the more generic living related data obtained from Statistics Finland. The data set has been downloaded from the website. We will first investigate the data set a bit and then perform some operation on the data set to clean it up a bit and drop column we don't need and also drop rows with no data."
   ]
  },
  {
   "cell_type": "code",
   "execution_count": null,
   "id": "ce2d24c0-160c-401f-9f01-b5f427a12734",
   "metadata": {},
   "outputs": [],
   "source": [
    "# Read the data from the csv file\n",
    "indicators_data = pd.read_csv('tilastokeskus_postinumero_tietoa_utf8.csv', skiprows=2, sep=';')\n",
    "# Print head of the data set for investigation\n",
    "indicators_data.head()"
   ]
  },
  {
   "cell_type": "code",
   "execution_count": 434,
   "id": "c8ff92ac-e9e0-494d-abba-5599e14a227b",
   "metadata": {},
   "outputs": [
    {
     "data": {
      "text/plain": [
       "(199, 8)"
      ]
     },
     "execution_count": 434,
     "metadata": {},
     "output_type": "execute_result"
    }
   ],
   "source": [
    "# Print the dimensions of the data\n",
    "indicators_data.shape"
   ]
  },
  {
   "cell_type": "markdown",
   "id": "6d904194-df53-4293-8f69-fdd9d67e829b",
   "metadata": {},
   "source": [
    "Lets first translate and rename the columns."
   ]
  },
  {
   "cell_type": "code",
   "execution_count": 435,
   "id": "e7a88282-de74-40d5-b319-9ade77f877da",
   "metadata": {},
   "outputs": [
    {
     "data": {
      "text/html": [
       "<div>\n",
       "<style scoped>\n",
       "    .dataframe tbody tr th:only-of-type {\n",
       "        vertical-align: middle;\n",
       "    }\n",
       "\n",
       "    .dataframe tbody tr th {\n",
       "        vertical-align: top;\n",
       "    }\n",
       "\n",
       "    .dataframe thead th {\n",
       "        text-align: right;\n",
       "    }\n",
       "</style>\n",
       "<table border=\"1\" class=\"dataframe\">\n",
       "  <thead>\n",
       "    <tr style=\"text-align: right;\">\n",
       "      <th></th>\n",
       "      <th>PostalCode</th>\n",
       "      <th>AreaSize</th>\n",
       "      <th>Population</th>\n",
       "      <th>AverageIncome</th>\n",
       "      <th>MedianIncome</th>\n",
       "      <th>LivingLooseness</th>\n",
       "      <th>Households</th>\n",
       "      <th>Unemployed</th>\n",
       "    </tr>\n",
       "  </thead>\n",
       "  <tbody>\n",
       "    <tr>\n",
       "      <th>0</th>\n",
       "      <td>00100  Helsinki Keskusta - Etu-Töölö (Helsinki)</td>\n",
       "      <td>2353278</td>\n",
       "      <td>18427</td>\n",
       "      <td>42196</td>\n",
       "      <td>27577</td>\n",
       "      <td>38.7</td>\n",
       "      <td>10205</td>\n",
       "      <td>702</td>\n",
       "    </tr>\n",
       "    <tr>\n",
       "      <th>1</th>\n",
       "      <td>00120  Punavuori (Helsinki)</td>\n",
       "      <td>414010</td>\n",
       "      <td>7161</td>\n",
       "      <td>41657</td>\n",
       "      <td>27523</td>\n",
       "      <td>39.5</td>\n",
       "      <td>3933</td>\n",
       "      <td>273</td>\n",
       "    </tr>\n",
       "    <tr>\n",
       "      <th>2</th>\n",
       "      <td>00130  Kaartinkaupunki (Helsinki)</td>\n",
       "      <td>428960</td>\n",
       "      <td>1523</td>\n",
       "      <td>57766</td>\n",
       "      <td>30479</td>\n",
       "      <td>43.0</td>\n",
       "      <td>818</td>\n",
       "      <td>41</td>\n",
       "    </tr>\n",
       "    <tr>\n",
       "      <th>3</th>\n",
       "      <td>00140  Kaivopuisto - Ullanlinna (Helsinki)</td>\n",
       "      <td>931841</td>\n",
       "      <td>7921</td>\n",
       "      <td>53555</td>\n",
       "      <td>29439</td>\n",
       "      <td>41.3</td>\n",
       "      <td>4404</td>\n",
       "      <td>261</td>\n",
       "    </tr>\n",
       "    <tr>\n",
       "      <th>4</th>\n",
       "      <td>00150  Eira - Hernesaari (Helsinki)</td>\n",
       "      <td>1367328</td>\n",
       "      <td>9385</td>\n",
       "      <td>41564</td>\n",
       "      <td>26546</td>\n",
       "      <td>34.3</td>\n",
       "      <td>5759</td>\n",
       "      <td>438</td>\n",
       "    </tr>\n",
       "  </tbody>\n",
       "</table>\n",
       "</div>"
      ],
      "text/plain": [
       "                                        PostalCode  AreaSize  Population  \\\n",
       "0  00100  Helsinki Keskusta - Etu-Töölö (Helsinki)   2353278       18427   \n",
       "1                      00120  Punavuori (Helsinki)    414010        7161   \n",
       "2                00130  Kaartinkaupunki (Helsinki)    428960        1523   \n",
       "3       00140  Kaivopuisto - Ullanlinna (Helsinki)    931841        7921   \n",
       "4              00150  Eira - Hernesaari (Helsinki)   1367328        9385   \n",
       "\n",
       "  AverageIncome MedianIncome  LivingLooseness  Households Unemployed  \n",
       "0         42196        27577             38.7       10205        702  \n",
       "1         41657        27523             39.5        3933        273  \n",
       "2         57766        30479             43.0         818         41  \n",
       "3         53555        29439             41.3        4404        261  \n",
       "4         41564        26546             34.3        5759        438  "
      ]
     },
     "execution_count": 435,
     "metadata": {},
     "output_type": "execute_result"
    }
   ],
   "source": [
    "# Rename columns\n",
    "indicators_data.columns = ['PostalCode', 'AreaSize', 'Population', 'AverageIncome', 'MedianIncome', 'LivingLooseness', 'Households', 'Unemployed']\n",
    "# Examine the changes\n",
    "indicators_data.head()"
   ]
  },
  {
   "cell_type": "markdown",
   "id": "8787cc61-2c62-4f15-bbaa-f440a9764131",
   "metadata": {},
   "source": [
    "Now that we have the data translated we can see that we have some data that we don't really need. Lets select the columns we will use."
   ]
  },
  {
   "cell_type": "code",
   "execution_count": 436,
   "id": "0d43a329-7811-4606-aa51-b821fef3ef1c",
   "metadata": {},
   "outputs": [
    {
     "data": {
      "text/html": [
       "<div>\n",
       "<style scoped>\n",
       "    .dataframe tbody tr th:only-of-type {\n",
       "        vertical-align: middle;\n",
       "    }\n",
       "\n",
       "    .dataframe tbody tr th {\n",
       "        vertical-align: top;\n",
       "    }\n",
       "\n",
       "    .dataframe thead th {\n",
       "        text-align: right;\n",
       "    }\n",
       "</style>\n",
       "<table border=\"1\" class=\"dataframe\">\n",
       "  <thead>\n",
       "    <tr style=\"text-align: right;\">\n",
       "      <th></th>\n",
       "      <th>PostalCode</th>\n",
       "      <th>Population</th>\n",
       "      <th>MedianIncome</th>\n",
       "      <th>LivingLooseness</th>\n",
       "      <th>Unemployed</th>\n",
       "    </tr>\n",
       "  </thead>\n",
       "  <tbody>\n",
       "    <tr>\n",
       "      <th>0</th>\n",
       "      <td>00100  Helsinki Keskusta - Etu-Töölö (Helsinki)</td>\n",
       "      <td>18427</td>\n",
       "      <td>27577</td>\n",
       "      <td>38.7</td>\n",
       "      <td>702</td>\n",
       "    </tr>\n",
       "    <tr>\n",
       "      <th>1</th>\n",
       "      <td>00120  Punavuori (Helsinki)</td>\n",
       "      <td>7161</td>\n",
       "      <td>27523</td>\n",
       "      <td>39.5</td>\n",
       "      <td>273</td>\n",
       "    </tr>\n",
       "    <tr>\n",
       "      <th>2</th>\n",
       "      <td>00130  Kaartinkaupunki (Helsinki)</td>\n",
       "      <td>1523</td>\n",
       "      <td>30479</td>\n",
       "      <td>43.0</td>\n",
       "      <td>41</td>\n",
       "    </tr>\n",
       "    <tr>\n",
       "      <th>3</th>\n",
       "      <td>00140  Kaivopuisto - Ullanlinna (Helsinki)</td>\n",
       "      <td>7921</td>\n",
       "      <td>29439</td>\n",
       "      <td>41.3</td>\n",
       "      <td>261</td>\n",
       "    </tr>\n",
       "    <tr>\n",
       "      <th>4</th>\n",
       "      <td>00150  Eira - Hernesaari (Helsinki)</td>\n",
       "      <td>9385</td>\n",
       "      <td>26546</td>\n",
       "      <td>34.3</td>\n",
       "      <td>438</td>\n",
       "    </tr>\n",
       "  </tbody>\n",
       "</table>\n",
       "</div>"
      ],
      "text/plain": [
       "                                        PostalCode  Population MedianIncome  \\\n",
       "0  00100  Helsinki Keskusta - Etu-Töölö (Helsinki)       18427        27577   \n",
       "1                      00120  Punavuori (Helsinki)        7161        27523   \n",
       "2                00130  Kaartinkaupunki (Helsinki)        1523        30479   \n",
       "3       00140  Kaivopuisto - Ullanlinna (Helsinki)        7921        29439   \n",
       "4              00150  Eira - Hernesaari (Helsinki)        9385        26546   \n",
       "\n",
       "   LivingLooseness Unemployed  \n",
       "0             38.7        702  \n",
       "1             39.5        273  \n",
       "2             43.0         41  \n",
       "3             41.3        261  \n",
       "4             34.3        438  "
      ]
     },
     "execution_count": 436,
     "metadata": {},
     "output_type": "execute_result"
    }
   ],
   "source": [
    "# Perform selection and drop the unneeded columns\n",
    "indicators_data = indicators_data[['PostalCode', 'Population', 'MedianIncome', 'LivingLooseness', 'Unemployed']]\n",
    "# Examine data\n",
    "indicators_data.head()"
   ]
  },
  {
   "cell_type": "markdown",
   "id": "92fdeb7a-3f02-4165-ae14-5768c9522443",
   "metadata": {},
   "source": [
    "The postal code column seems to contain some junk text, lets format the cell contents a bit to be later able to merge the data set with other data."
   ]
  },
  {
   "cell_type": "code",
   "execution_count": 426,
   "id": "55ab586d-73cf-492b-8273-89cdfb6fb6ab",
   "metadata": {},
   "outputs": [
    {
     "data": {
      "text/html": [
       "<div>\n",
       "<style scoped>\n",
       "    .dataframe tbody tr th:only-of-type {\n",
       "        vertical-align: middle;\n",
       "    }\n",
       "\n",
       "    .dataframe tbody tr th {\n",
       "        vertical-align: top;\n",
       "    }\n",
       "\n",
       "    .dataframe thead th {\n",
       "        text-align: right;\n",
       "    }\n",
       "</style>\n",
       "<table border=\"1\" class=\"dataframe\">\n",
       "  <thead>\n",
       "    <tr style=\"text-align: right;\">\n",
       "      <th></th>\n",
       "      <th>PostalCode</th>\n",
       "      <th>Population</th>\n",
       "      <th>MedianIncome</th>\n",
       "      <th>LivingLooseness</th>\n",
       "      <th>Unemployed</th>\n",
       "    </tr>\n",
       "  </thead>\n",
       "  <tbody>\n",
       "    <tr>\n",
       "      <th>0</th>\n",
       "      <td>00100</td>\n",
       "      <td>18427</td>\n",
       "      <td>27577</td>\n",
       "      <td>38.7</td>\n",
       "      <td>702</td>\n",
       "    </tr>\n",
       "    <tr>\n",
       "      <th>1</th>\n",
       "      <td>00120</td>\n",
       "      <td>7161</td>\n",
       "      <td>27523</td>\n",
       "      <td>39.5</td>\n",
       "      <td>273</td>\n",
       "    </tr>\n",
       "    <tr>\n",
       "      <th>2</th>\n",
       "      <td>00130</td>\n",
       "      <td>1523</td>\n",
       "      <td>30479</td>\n",
       "      <td>43.0</td>\n",
       "      <td>41</td>\n",
       "    </tr>\n",
       "    <tr>\n",
       "      <th>3</th>\n",
       "      <td>00140</td>\n",
       "      <td>7921</td>\n",
       "      <td>29439</td>\n",
       "      <td>41.3</td>\n",
       "      <td>261</td>\n",
       "    </tr>\n",
       "    <tr>\n",
       "      <th>4</th>\n",
       "      <td>00150</td>\n",
       "      <td>9385</td>\n",
       "      <td>26546</td>\n",
       "      <td>34.3</td>\n",
       "      <td>438</td>\n",
       "    </tr>\n",
       "  </tbody>\n",
       "</table>\n",
       "</div>"
      ],
      "text/plain": [
       "  PostalCode  Population MedianIncome  LivingLooseness Unemployed\n",
       "0      00100       18427        27577             38.7        702\n",
       "1      00120        7161        27523             39.5        273\n",
       "2      00130        1523        30479             43.0         41\n",
       "3      00140        7921        29439             41.3        261\n",
       "4      00150        9385        26546             34.3        438"
      ]
     },
     "execution_count": 426,
     "metadata": {},
     "output_type": "execute_result"
    }
   ],
   "source": [
    "# Use regex and clean up the postal codes\n",
    "indicators_data['PostalCode'] = indicators_data['PostalCode'].replace(' .*', '', regex=True)\n",
    "# View the results\n",
    "indicators_data.head()"
   ]
  },
  {
   "cell_type": "markdown",
   "id": "11bb0cf9-10b4-4bc8-b2eb-3268535aadd2",
   "metadata": {},
   "source": [
    "The data also contains some incomplete data that are represented with '..' so lets first convert those strings into nan and then drop the nan rows."
   ]
  },
  {
   "cell_type": "code",
   "execution_count": 427,
   "id": "7a604eab-4e9c-439e-97e0-ba2782af1508",
   "metadata": {},
   "outputs": [
    {
     "data": {
      "text/html": [
       "<div>\n",
       "<style scoped>\n",
       "    .dataframe tbody tr th:only-of-type {\n",
       "        vertical-align: middle;\n",
       "    }\n",
       "\n",
       "    .dataframe tbody tr th {\n",
       "        vertical-align: top;\n",
       "    }\n",
       "\n",
       "    .dataframe thead th {\n",
       "        text-align: right;\n",
       "    }\n",
       "</style>\n",
       "<table border=\"1\" class=\"dataframe\">\n",
       "  <thead>\n",
       "    <tr style=\"text-align: right;\">\n",
       "      <th></th>\n",
       "      <th>PostalCode</th>\n",
       "      <th>Population</th>\n",
       "      <th>MedianIncome</th>\n",
       "      <th>LivingLooseness</th>\n",
       "      <th>Unemployed</th>\n",
       "    </tr>\n",
       "  </thead>\n",
       "  <tbody>\n",
       "    <tr>\n",
       "      <th>0</th>\n",
       "      <td>00100</td>\n",
       "      <td>18427</td>\n",
       "      <td>27577</td>\n",
       "      <td>38.7</td>\n",
       "      <td>702</td>\n",
       "    </tr>\n",
       "    <tr>\n",
       "      <th>1</th>\n",
       "      <td>00120</td>\n",
       "      <td>7161</td>\n",
       "      <td>27523</td>\n",
       "      <td>39.5</td>\n",
       "      <td>273</td>\n",
       "    </tr>\n",
       "    <tr>\n",
       "      <th>2</th>\n",
       "      <td>00130</td>\n",
       "      <td>1523</td>\n",
       "      <td>30479</td>\n",
       "      <td>43.0</td>\n",
       "      <td>41</td>\n",
       "    </tr>\n",
       "    <tr>\n",
       "      <th>3</th>\n",
       "      <td>00140</td>\n",
       "      <td>7921</td>\n",
       "      <td>29439</td>\n",
       "      <td>41.3</td>\n",
       "      <td>261</td>\n",
       "    </tr>\n",
       "    <tr>\n",
       "      <th>4</th>\n",
       "      <td>00150</td>\n",
       "      <td>9385</td>\n",
       "      <td>26546</td>\n",
       "      <td>34.3</td>\n",
       "      <td>438</td>\n",
       "    </tr>\n",
       "  </tbody>\n",
       "</table>\n",
       "</div>"
      ],
      "text/plain": [
       "  PostalCode  Population MedianIncome  LivingLooseness Unemployed\n",
       "0      00100       18427        27577             38.7        702\n",
       "1      00120        7161        27523             39.5        273\n",
       "2      00130        1523        30479             43.0         41\n",
       "3      00140        7921        29439             41.3        261\n",
       "4      00150        9385        26546             34.3        438"
      ]
     },
     "execution_count": 427,
     "metadata": {},
     "output_type": "execute_result"
    }
   ],
   "source": [
    "# Replace .. strings with nan\n",
    "indicators_data = indicators_data.replace('\\.\\.', np.nan, regex=True)\n",
    "# Drop nan rows\n",
    "indicators_data = indicators_data.dropna()\n",
    "# Check the results\n",
    "indicators_data.head()"
   ]
  },
  {
   "cell_type": "code",
   "execution_count": 429,
   "id": "67541f7e-80d9-4242-a5c6-15278bc6e3cf",
   "metadata": {},
   "outputs": [
    {
     "data": {
      "text/plain": [
       "(198, 5)"
      ]
     },
     "execution_count": 429,
     "metadata": {},
     "output_type": "execute_result"
    }
   ],
   "source": [
    "# Check the dimensions of the data\n",
    "indicators_data.shape"
   ]
  },
  {
   "cell_type": "markdown",
   "id": "8dfb8a40-63f4-456e-86f0-0f76d2b6433b",
   "metadata": {},
   "source": [
    "Looks like there was one row with nan data that was dropped. Next lets use the population and the unemployed count to create a new column with unemployment rate."
   ]
  },
  {
   "cell_type": "code",
   "execution_count": 430,
   "id": "aa13c89d-917e-44b4-8920-dbe8f7b66033",
   "metadata": {},
   "outputs": [
    {
     "data": {
      "text/html": [
       "<div>\n",
       "<style scoped>\n",
       "    .dataframe tbody tr th:only-of-type {\n",
       "        vertical-align: middle;\n",
       "    }\n",
       "\n",
       "    .dataframe tbody tr th {\n",
       "        vertical-align: top;\n",
       "    }\n",
       "\n",
       "    .dataframe thead th {\n",
       "        text-align: right;\n",
       "    }\n",
       "</style>\n",
       "<table border=\"1\" class=\"dataframe\">\n",
       "  <thead>\n",
       "    <tr style=\"text-align: right;\">\n",
       "      <th></th>\n",
       "      <th>PostalCode</th>\n",
       "      <th>Population</th>\n",
       "      <th>MedianIncome</th>\n",
       "      <th>LivingLooseness</th>\n",
       "      <th>Unemployed</th>\n",
       "      <th>UnemployementRate</th>\n",
       "    </tr>\n",
       "  </thead>\n",
       "  <tbody>\n",
       "    <tr>\n",
       "      <th>0</th>\n",
       "      <td>00100</td>\n",
       "      <td>18427</td>\n",
       "      <td>27577</td>\n",
       "      <td>38.7</td>\n",
       "      <td>702</td>\n",
       "      <td>0.038096</td>\n",
       "    </tr>\n",
       "    <tr>\n",
       "      <th>1</th>\n",
       "      <td>00120</td>\n",
       "      <td>7161</td>\n",
       "      <td>27523</td>\n",
       "      <td>39.5</td>\n",
       "      <td>273</td>\n",
       "      <td>0.038123</td>\n",
       "    </tr>\n",
       "    <tr>\n",
       "      <th>2</th>\n",
       "      <td>00130</td>\n",
       "      <td>1523</td>\n",
       "      <td>30479</td>\n",
       "      <td>43.0</td>\n",
       "      <td>41</td>\n",
       "      <td>0.026921</td>\n",
       "    </tr>\n",
       "    <tr>\n",
       "      <th>3</th>\n",
       "      <td>00140</td>\n",
       "      <td>7921</td>\n",
       "      <td>29439</td>\n",
       "      <td>41.3</td>\n",
       "      <td>261</td>\n",
       "      <td>0.032950</td>\n",
       "    </tr>\n",
       "    <tr>\n",
       "      <th>4</th>\n",
       "      <td>00150</td>\n",
       "      <td>9385</td>\n",
       "      <td>26546</td>\n",
       "      <td>34.3</td>\n",
       "      <td>438</td>\n",
       "      <td>0.046670</td>\n",
       "    </tr>\n",
       "  </tbody>\n",
       "</table>\n",
       "</div>"
      ],
      "text/plain": [
       "  PostalCode  Population MedianIncome  LivingLooseness Unemployed  \\\n",
       "0      00100       18427        27577             38.7        702   \n",
       "1      00120        7161        27523             39.5        273   \n",
       "2      00130        1523        30479             43.0         41   \n",
       "3      00140        7921        29439             41.3        261   \n",
       "4      00150        9385        26546             34.3        438   \n",
       "\n",
       "   UnemployementRate  \n",
       "0           0.038096  \n",
       "1           0.038123  \n",
       "2           0.026921  \n",
       "3           0.032950  \n",
       "4           0.046670  "
      ]
     },
     "execution_count": 430,
     "metadata": {},
     "output_type": "execute_result"
    }
   ],
   "source": [
    "# Create unemployment rate column from the population count and the unemployed count\n",
    "indicators_data['UnemployementRate'] = indicators_data['Unemployed'].astype('int') / indicators_data['Population'].astype('int')\n",
    "indicators_data.head()"
   ]
  },
  {
   "cell_type": "markdown",
   "id": "ad0dcc73-eb1d-43f4-8170-e8bf1b9b9144",
   "metadata": {},
   "source": [
    "Lets drop the population and unemployed counts now that we have the rates"
   ]
  },
  {
   "cell_type": "code",
   "execution_count": 431,
   "id": "100fe19d-1360-424c-9262-2aa2812a4d82",
   "metadata": {},
   "outputs": [
    {
     "data": {
      "text/html": [
       "<div>\n",
       "<style scoped>\n",
       "    .dataframe tbody tr th:only-of-type {\n",
       "        vertical-align: middle;\n",
       "    }\n",
       "\n",
       "    .dataframe tbody tr th {\n",
       "        vertical-align: top;\n",
       "    }\n",
       "\n",
       "    .dataframe thead th {\n",
       "        text-align: right;\n",
       "    }\n",
       "</style>\n",
       "<table border=\"1\" class=\"dataframe\">\n",
       "  <thead>\n",
       "    <tr style=\"text-align: right;\">\n",
       "      <th></th>\n",
       "      <th>PostalCode</th>\n",
       "      <th>MedianIncome</th>\n",
       "      <th>LivingLooseness</th>\n",
       "      <th>UnemployementRate</th>\n",
       "    </tr>\n",
       "  </thead>\n",
       "  <tbody>\n",
       "    <tr>\n",
       "      <th>0</th>\n",
       "      <td>00100</td>\n",
       "      <td>27577</td>\n",
       "      <td>38.7</td>\n",
       "      <td>0.038096</td>\n",
       "    </tr>\n",
       "    <tr>\n",
       "      <th>1</th>\n",
       "      <td>00120</td>\n",
       "      <td>27523</td>\n",
       "      <td>39.5</td>\n",
       "      <td>0.038123</td>\n",
       "    </tr>\n",
       "    <tr>\n",
       "      <th>2</th>\n",
       "      <td>00130</td>\n",
       "      <td>30479</td>\n",
       "      <td>43.0</td>\n",
       "      <td>0.026921</td>\n",
       "    </tr>\n",
       "    <tr>\n",
       "      <th>3</th>\n",
       "      <td>00140</td>\n",
       "      <td>29439</td>\n",
       "      <td>41.3</td>\n",
       "      <td>0.032950</td>\n",
       "    </tr>\n",
       "    <tr>\n",
       "      <th>4</th>\n",
       "      <td>00150</td>\n",
       "      <td>26546</td>\n",
       "      <td>34.3</td>\n",
       "      <td>0.046670</td>\n",
       "    </tr>\n",
       "  </tbody>\n",
       "</table>\n",
       "</div>"
      ],
      "text/plain": [
       "  PostalCode MedianIncome  LivingLooseness  UnemployementRate\n",
       "0      00100        27577             38.7           0.038096\n",
       "1      00120        27523             39.5           0.038123\n",
       "2      00130        30479             43.0           0.026921\n",
       "3      00140        29439             41.3           0.032950\n",
       "4      00150        26546             34.3           0.046670"
      ]
     },
     "execution_count": 431,
     "metadata": {},
     "output_type": "execute_result"
    }
   ],
   "source": [
    "# Drop population and unemployed columns\n",
    "indicators_data.drop(labels=['Population', 'Unemployed'], axis=1, inplace=True)\n",
    "# Check the results\n",
    "indicators_data.head()"
   ]
  },
  {
   "cell_type": "code",
   "execution_count": 437,
   "id": "e61f4d34-60dc-4a94-87dc-32b9aa2a4994",
   "metadata": {},
   "outputs": [
    {
     "data": {
      "text/plain": [
       "PostalCode          object\n",
       "Population           int64\n",
       "MedianIncome        object\n",
       "LivingLooseness    float64\n",
       "Unemployed          object\n",
       "dtype: object"
      ]
     },
     "execution_count": 437,
     "metadata": {},
     "output_type": "execute_result"
    }
   ],
   "source": [
    "# Check the types\n",
    "indicators_data.dtypes"
   ]
  },
  {
   "cell_type": "code",
   "execution_count": 444,
   "id": "0b14e883-ff0e-4e04-b466-c46609d1bf24",
   "metadata": {},
   "outputs": [
    {
     "data": {
      "text/plain": [
       "array([['00100  Helsinki Keskusta - Etu-Töölö (Helsinki)', 18427,\n",
       "        '27577', 38.7, '702'],\n",
       "       ['00120  Punavuori (Helsinki)', 7161, '27523', 39.5, '273'],\n",
       "       ['00130  Kaartinkaupunki (Helsinki)', 1523, '30479', 43.0, '41'],\n",
       "       ['00140  Kaivopuisto - Ullanlinna (Helsinki)', 7921, '29439',\n",
       "        41.3, '261'],\n",
       "       ['00150  Eira - Hernesaari (Helsinki)', 9385, '26546', 34.3,\n",
       "        '438'],\n",
       "       ['00160  Katajanokka (Helsinki)', 4577, '28098', 40.2, '143'],\n",
       "       ['00170  Kruununhaka (Helsinki)', 7495, '28489', 38.0, '270'],\n",
       "       ['00180  Kamppi - Ruoholahti (Helsinki)', 14020, '26037', 33.6,\n",
       "        '645'],\n",
       "       ['00190  Suomenlinna (Helsinki)', 707, '25728', 30.9, '36'],\n",
       "       ['00200  Lauttasaari (Helsinki)', 15817, '27378', 33.6, '586'],\n",
       "       ['00210  Vattuniemi (Helsinki)', 8509, '30678', 36.8, '245'],\n",
       "       ['00220  Jätkäsaari (Helsinki)', 6901, '23589', 29.6, '195'],\n",
       "       ['00230  Ilmala (Helsinki)', 0, '0', 0.0, '0'],\n",
       "       ['00240  Länsi-Pasila (Helsinki)', 5563, '23045', 33.5, '280'],\n",
       "       ['00250  Taka-Töölö (Helsinki)', 11359, '25958', 33.4, '457'],\n",
       "       ['00260  Keski-Töölö (Helsinki)', 5480, '27031', 38.8, '190'],\n",
       "       ['00270  Pohjois-Meilahti (Helsinki)', 7775, '24383', 31.6, '404'],\n",
       "       ['00280  Ruskeasuo (Helsinki)', 2990, '23438', 31.7, '110'],\n",
       "       ['00290  Meilahden sairaala-alue (Helsinki)', 148, '29092', 41.9,\n",
       "        '5'],\n",
       "       ['00300  Pikku Huopalahti (Helsinki)', 5799, '24187', 32.2, '317'],\n",
       "       ['00310  Kivihaka (Helsinki)', 913, '24419', 32.6, '48'],\n",
       "       ['00320  Etelä-Haaga (Helsinki)', 10199, '24401', 31.6, '475'],\n",
       "       ['00330  Munkkiniemi (Helsinki)', 8818, '27900', 38.9, '295'],\n",
       "       ['00340  Kuusisaari-Lehtisaari (Helsinki)', 1767, '33289', 53.0,\n",
       "        '50'],\n",
       "       ['00350  Munkkivuori-Niemenmäki (Helsinki)', 9280, '24178', 31.9,\n",
       "        '444'],\n",
       "       ['00360  Pajamäki (Helsinki)', 1868, '23575', 30.8, '118'],\n",
       "       ['00370  Reimarla (Helsinki)', 6544, '23334', 33.2, '349'],\n",
       "       ['00380  Pitäjänmäen teollisuusalue (Helsinki)', 4547, '24049',\n",
       "        32.1, '311'],\n",
       "       ['00390  Konala (Helsinki)', 6510, '24086', 33.4, '374'],\n",
       "       ['00400  Pohjois-Haaga (Helsinki)', 9621, '21471', 30.6, '539'],\n",
       "       ['00410  Malminkartano (Helsinki)', 9037, '20863', 31.1, '523'],\n",
       "       ['00420  Kannelmäki (Helsinki)', 13691, '20687', 32.7, '913'],\n",
       "       ['00430  Maununneva (Helsinki)', 5834, '26859', 35.7, '190'],\n",
       "       ['00440  Lassila (Helsinki)', 4797, '22067', 33.3, '243'],\n",
       "       ['00500  Sörnäinen (Helsinki)', 12436, '22007', 28.7, '955'],\n",
       "       ['00510  Etu-Vallila - Alppila (Helsinki)', 9783, '22916', 29.1,\n",
       "        '687'],\n",
       "       ['00520  Itä-Pasila (Helsinki)', 7276, '22305', 31.0, '425'],\n",
       "       ['00530  Kallio (Helsinki)', 18644, '22939', 30.9, '1174'],\n",
       "       ['00540  Kalasatama (Helsinki)', 2910, '26249', 32.0, '72'],\n",
       "       ['00550  Vallila (Helsinki)', 9189, '21339', 29.7, '605'],\n",
       "       ['00560  Toukola-Vanhakaupunki (Helsinki)', 13807, '24927', 31.2,\n",
       "        '523'],\n",
       "       ['00570  Kulosaari (Helsinki)', 4004, '28005', 42.2, '143'],\n",
       "       ['00580  Verkkosaari (Helsinki)', 2945, '23957', 31.5, '92'],\n",
       "       ['00590  Kaitalahti (Helsinki)', 1956, '27865', 34.4, '39'],\n",
       "       ['00600  Koskela-Helsinki (Helsinki)', 4153, '18699', 33.1, '227'],\n",
       "       ['00610  Käpylä (Helsinki)', 8166, '24268', 30.7, '436'],\n",
       "       ['00620  Metsälä-Etelä-Oulunkylä (Helsinki)', 3285, '24966', 40.0,\n",
       "        '106'],\n",
       "       ['00630  Maunula-Suursuo (Helsinki)', 8309, '21578', 33.9, '557'],\n",
       "       ['00640  Oulunkylä-Patola (Helsinki)', 8185, '24082', 35.7, '338'],\n",
       "       ['00650  Veräjämäki (Helsinki)', 4276, '25005', 35.8, '210'],\n",
       "       ['00660  Länsi-Pakila (Helsinki)', 6646, '30035', 40.3, '186'],\n",
       "       ['00670  Paloheinä (Helsinki)', 5989, '32095', 38.4, '152'],\n",
       "       ['00680  Itä-Pakila (Helsinki)', 3663, '29228', 39.7, '134'],\n",
       "       ['00690  Tuomarinkylä-Torpparinmäki (Helsinki)', 2773, '27220',\n",
       "        36.5, '95'],\n",
       "       ['00700  Malmi (Helsinki)', 13359, '21449', 33.5, '961'],\n",
       "       ['00710  Pihlajamäki (Helsinki)', 12691, '21377', 33.7, '907'],\n",
       "       ['00720  Pukinmäki-Savela (Helsinki)', 8770, '21751', 33.4, '505'],\n",
       "       ['00730  Tapanila (Helsinki)', 11270, '25683', 34.9, '539'],\n",
       "       ['00740  Siltamäki (Helsinki)', 10494, '23060', 34.8, '440'],\n",
       "       ['00750  Puistola (Helsinki)', 9630, '22679', 33.6, '617'],\n",
       "       ['00760  Suurmetsä (Helsinki)', 7644, '27107', 36.0, '268'],\n",
       "       ['00770  Jakomäki - Alppikylä (Helsinki)', 7506, '20194', 32.6,\n",
       "        '576'],\n",
       "       ['00780  Tapaninvainio (Helsinki)', 6963, '25574', 38.0, '295'],\n",
       "       ['00790  Viikki (Helsinki)', 11114, '23201', 29.6, '467'],\n",
       "       ['00800  Länsi-Herttoniemi (Helsinki)', 7319, '22255', 33.0,\n",
       "        '497'],\n",
       "       ['00810  Herttoniemi (Helsinki)', 11631, '24307', 33.0, '798'],\n",
       "       ['00820  Roihuvuori (Helsinki)', 7389, '21175', 31.0, '593'],\n",
       "       ['00830  Tammisalo (Helsinki)', 2255, '32597', 45.8, '54'],\n",
       "       ['00840  Laajasalo (Helsinki)', 8233, '25360', 38.6, '330'],\n",
       "       ['00850  Jollas (Helsinki)', 3148, '30567', 39.6, '121'],\n",
       "       ['00860  Santahamina (Helsinki)', 387, '28340', 26.3, '7'],\n",
       "       ['00870  Etelä-Laajasalo (Helsinki)', 6233, '22176', 34.5, '399'],\n",
       "       ['00880  Roihupellon teollisuusalue (Helsinki)', 741, '23239',\n",
       "        32.7, '36'],\n",
       "       ['00890  Östersundom (Helsinki)', 1944, '28908', 55.8, '65'],\n",
       "       ['00900  Puotinharju (Helsinki)', 4258, '20273', 33.0, '377'],\n",
       "       ['00910  Puotila (Helsinki)', 5849, '21403', 32.3, '428'],\n",
       "       ['00920  Myllypuro (Helsinki)', 13756, '22284', 33.5, '770'],\n",
       "       ['00930  Itäkeskus-Marjaniemi (Helsinki)', 6794, '21315', 38.7,\n",
       "        '510'],\n",
       "       ['00940  Kontula - Vesala (Helsinki)', 26010, '19611', 32.2,\n",
       "        '2211'],\n",
       "       ['00950  Vartioharju (Helsinki)', 6060, '26512', 37.9, '256'],\n",
       "       ['00960  Pohjois-Vuosaari (Helsinki)', 7192, '22356', 33.7, '469'],\n",
       "       ['00970  Mellunmäki (Helsinki)', 10637, '21382', 34.4, '785'],\n",
       "       ['00980  Etelä-Vuosaari (Helsinki)', 23183, '21143', 33.0, '1862'],\n",
       "       ['00990  Aurinkolahti (Helsinki)', 8587, '25165', 34.4, '411'],\n",
       "       ['01120  Västerskog (Sipoo)', 1412, '25573', 49.5, '48'],\n",
       "       ['01150  Söderkulla (Sipoo)', 5900, '27286', 43.0, '188'],\n",
       "       ['01180  Kalkkiranta (Porvoo)', 455, '25919', 52.5, '7'],\n",
       "       ['01190  Box (Sipoo)', 1026, '25588', 47.3, '24'],\n",
       "       ['01200  Hakunila (Vantaa)', 12195, '21162', 32.7, '929'],\n",
       "       ['01230  Vaarala (Vantaa)', 2971, '25768', 36.5, '128'],\n",
       "       ['01260  Itä-Hakkila (Vantaa)', 4870, '26412', 38.7, '143'],\n",
       "       ['01280  Länsimäki (Vantaa)', 9699, '22890', 33.7, '583'],\n",
       "       ['01300  Tikkurila (Vantaa)', 20713, '23668', 35.3, '951'],\n",
       "       ['01340  Leinelä (Vantaa)', 2095, '22504', 31.5, '69'],\n",
       "       ['01350  Hiekkaharju (Vantaa)', 10261, '23402', 34.5, '581'],\n",
       "       ['01360  Koivukylä-Havukoski (Vantaa)', 12037, '20212', 33.6,\n",
       "        '865'],\n",
       "       ['01370  Jokiniemi (Vantaa)', 6605, '22316', 31.5, '379'],\n",
       "       ['01380  Kuusikko-Hakkila (Vantaa)', 1950, '26947', 37.3, '75'],\n",
       "       ['01390  Ruskeasanta-Ilola (Vantaa)', 9159, '26738', 36.7, '291'],\n",
       "       ['01400  Rekola (Vantaa)', 8917, '24035', 35.6, '429'],\n",
       "       ['01420  Päiväkumpu (Vantaa)', 3219, '26795', 39.0, '111'],\n",
       "       ['01450  Korso (Vantaa)', 18193, '23640', 36.1, '956'],\n",
       "       ['01480  Mikkola (Vantaa)', 6382, '22882', 35.6, '370'],\n",
       "       ['01490  Nikinmäki (Vantaa)', 4314, '28685', 40.0, '115'],\n",
       "       ['01510  Kirkonkylä-Veromäki (Vantaa)', 6395, '24875', 30.5,\n",
       "        '364'],\n",
       "       ['01520  Tammisto (Vantaa)', 7758, '27693', 30.6, '289'],\n",
       "       ['01530  Veromiehenkylä (Vantaa)', 627, '21428', 28.9, '50'],\n",
       "       ['01600  Myyrmäki (Vantaa)', 17467, '22075', 33.8, '982'],\n",
       "       ['01610  Kaivoksela (Vantaa)', 5326, '23863', 34.5, '296'],\n",
       "       ['01620  Martinlaakso (Vantaa)', 12462, '22544', 34.4, '719'],\n",
       "       ['01630  Hämeenkylä (Vantaa)', 2073, '27762', 37.4, '58'],\n",
       "       ['01640  Hämevaara (Vantaa)', 3424, '25673', 37.8, '168'],\n",
       "       ['01650  Vapaala (Vantaa)', 4088, '25287', 39.6, '203'],\n",
       "       ['01660  Varisto (Vantaa)', 2317, '24143', 37.2, '125'],\n",
       "       ['01670  Vantaanlaakso (Vantaa)', 2844, '27586', 37.7, '88'],\n",
       "       ['01680  Askisto (Vantaa)', 2078, '27299', 39.6, '68'],\n",
       "       ['01690  Ylästö (Vantaa)', 4820, '30719', 36.6, '111'],\n",
       "       ['01700  Kivistö (Vantaa)', 8085, '25749', 34.1, '257'],\n",
       "       ['01710  Pähkinärinne (Vantaa)', 5092, '23369', 34.7, '314'],\n",
       "       ['01720  Petikko (Vantaa)', 62, '22546', 34.2, '2'],\n",
       "       ['01730  Vantaanpuisto (Vantaa)', 2636, '25888', 38.4, '83'],\n",
       "       ['01740  Tuupakan teollisuusalue (Vantaa)', 201, '25381', 51.1,\n",
       "        '8'],\n",
       "       ['01750  Keimola (Vantaa)', 844, '27550', 45.4, '38'],\n",
       "       ['01760  Seutula (Vantaa)', 2051, '24841', 40.7, '64'],\n",
       "       ['01770  Martinlaakson teollisuusalue (Vantaa)', 0, '0', 0.0, '0'],\n",
       "       ['01800  Klaukkala Keskus (Nurmijärvi)', 9076, '25158', 39.1,\n",
       "        '285'],\n",
       "       ['01810  Luhtajoki (Nurmijärvi)', 683, '26546', 45.0, '18'],\n",
       "       ['01820  Haikala (Nurmijärvi)', 3336, '28071', 39.7, '87'],\n",
       "       ['01830  Lepsämä (Nurmijärvi)', 2419, '26243', 44.8, '62'],\n",
       "       ['01840  Klaukkala (Nurmijärvi)', 3991, '28752', 41.5, '107'],\n",
       "       ['01860  Perttula (Nurmijärvi)', 2073, '25999', 47.3, '66'],\n",
       "       ['01900  Nurmijärvi Keskus (Nurmijärvi)', 8953, '24387', 41.6,\n",
       "        '294'],\n",
       "       ['01940  Palojoki (Nurmijärvi)', 781, '25993', 45.6, '14'],\n",
       "       ['02100  Tapiola (Espoo)', 5193, '27900', 38.4, '185'],\n",
       "       ['02110  Otsolahti (Espoo)', 2779, '27915', 35.6, '90'],\n",
       "       ['02120  Länsikorkee-Suvikumpu (Espoo)', 2768, '26864', 36.8,\n",
       "        '89'],\n",
       "       ['02130  Pohjois-Tapiola (Espoo)', 6354, '30931', 38.5, '171'],\n",
       "       ['02140  Laajalahti (Espoo)', 3711, '30296', 36.8, '132'],\n",
       "       ['02150  Otaniemi (Espoo)', 3749, '11292', 24.2, '32'],\n",
       "       ['02160  Westend (Espoo)', 3124, '37207', 51.7, '59'],\n",
       "       ['02170  Haukilahti (Espoo)', 5671, '30677', 42.5, '196'],\n",
       "       ['02180  Mankkaa (Espoo)', 6899, '34005', 37.6, '178'],\n",
       "       ['02200  Niittykumpu (Espoo)', 8750, '28213', 37.3, '283'],\n",
       "       ['02210  Olari (Espoo)', 11500, '25598', 37.1, '494'],\n",
       "       ['02230  Matinkylä (Espoo)', 21773, '24001', 35.0, '1135'],\n",
       "       ['02240  Friisilä (Espoo)', 2316, '33854', 45.7, '65'],\n",
       "       ['02250  Henttaa (Espoo)', 4623, '24556', 32.1, '248'],\n",
       "       ['02260  Kaitaa (Espoo)', 3732, '27312', 37.1, '157'],\n",
       "       ['02270  Finnoo-Eestinmalmi (Espoo)', 2206, '30366', 39.2, '73'],\n",
       "       ['02280  Malminmäki-Eestinlaakso (Espoo)', 4440, '26808', 34.1,\n",
       "        '206'],\n",
       "       ['02290  Puolarmetsän sairaala (Espoo)', 3, '...', 0.0, '...'],\n",
       "       ['02300  Nöykkiönpuro (Espoo)', 2575, '32640', 44.1, '77'],\n",
       "       ['02320  Espoonlahti (Espoo)', 16489, '23799', 36.5, '853'],\n",
       "       ['02330  Saunalahti-Kattilalaakso (Espoo)', 10069, '28508', 38.7,\n",
       "        '371'],\n",
       "       ['02340  Latokaski (Espoo)', 4982, '28991', 33.2, '133'],\n",
       "       ['02360  Soukka (Espoo)', 9918, '24942', 39.0, '499'],\n",
       "       ['02380  Suvisaaristo (Espoo)', 649, '31243', 66.5, '13'],\n",
       "       ['02390  Sarvvik (Kirkkonummi)', 603, '25857', 43.3, '14'],\n",
       "       ['02400  Kirkkonummi Keskus (Kirkkonummi)', 12388, '24312', 41.1,\n",
       "        '510'],\n",
       "       ['02410  Gesterby (Kirkkonummi)', 1996, '19815', 39.2, '195'],\n",
       "       ['02420  Jorvas (Kirkkonummi)', 1784, '29209', 54.2, '48'],\n",
       "       ['02430  Masala (Kirkkonummi)', 4385, '23622', 34.5, '263'],\n",
       "       ['02440  Luoma (Kirkkonummi)', 599, '27712', 59.0, '19'],\n",
       "       ['02450  Sundsberg (Kirkkonummi)', 2126, '35422', 35.1, '33'],\n",
       "       ['02460  Kantvik (Kirkkonummi)', 1782, '26670', 44.1, '76'],\n",
       "       ['02470  Upinniemi (Kirkkonummi)', 265, '22350', 41.4, '16'],\n",
       "       ['02480  Porkkala (Kirkkonummi)', 4542, '28494', 45.8, '134'],\n",
       "       ['02490  Pikkala (Siuntio)', 303, '24890', 45.9, '16'],\n",
       "       ['02510  Oitmäki (Kirkkonummi)', 465, '24763', 49.3, '16'],\n",
       "       ['02520  Lapinkylä (Kirkkonummi)', 795, '25531', 50.6, '25'],\n",
       "       ['02540  Kylmälä (Kirkkonummi)', 618, '25898', 52.6, '28'],\n",
       "       ['02550  Evitskog (Kirkkonummi)', 850, '24717', 51.3, '37'],\n",
       "       ['02570  Siuntio Kirkonkylä (Siuntio)', 1285, '24391', 48.9, '46'],\n",
       "       ['02580  Siuntio Asemanseutu (Siuntio)', 3435, '24447', 48.6,\n",
       "        '106'],\n",
       "       ['02590  Lappers (Siuntio)', 247, '25141', 50.9, '1'],\n",
       "       ['02600  Etelä-Leppävaara (Espoo)', 11901, '24134', 32.2, '521'],\n",
       "       ['02610  Kilo (Espoo)', 6589, '22838', 30.4, '376'],\n",
       "       ['02620  Karakallio (Espoo)', 8401, '25242', 35.0, '324'],\n",
       "       ['02630  Nihtisilta (Espoo)', 3444, '26389', 33.0, '162'],\n",
       "       ['02650  Pohjois-Leppävaara (Espoo)', 10829, '24826', 33.6, '619'],\n",
       "       ['02660  Lintuvaara (Espoo)', 6165, '28008', 34.5, '223'],\n",
       "       ['02680  Uusmäki (Espoo)', 2871, '29231', 34.1, '85'],\n",
       "       ['02700  Kauniainen (Kauniainen)', 9484, '30730', 47.9, '256'],\n",
       "       ['02710  Viherlaakso (Espoo)', 5929, '25748', 38.2, '279'],\n",
       "       ['02720  Lähderanta (Espoo)', 2996, '26287', 37.3, '114'],\n",
       "       ['02730  Jupperi (Espoo)', 4613, '32440', 45.7, '114'],\n",
       "       ['02740  Bemböle-Pakankylä (Espoo)', 3298, '26621', 36.4, '111'],\n",
       "       ['02750  Sepänkylä-Kuurinniitty (Espoo)', 6486, '28300', 35.6,\n",
       "        '266'],\n",
       "       ['02760  Tuomarila-Suvela (Espoo)', 14422, '23402', 32.2, '820'],\n",
       "       ['02770  Espoon Keskus (Espoo)', 10706, '22137', 33.2, '674'],\n",
       "       ['02780  Kauklahti (Espoo)', 11153, '26391', 35.8, '474'],\n",
       "       ['02810  Gumböle-Karhusuo (Espoo)', 1785, '29510', 37.8, '47'],\n",
       "       ['02820  Nupuri-Nuuksio (Espoo)', 1517, '26873', 46.7, '52'],\n",
       "       ['02860  Siikajärvi (Espoo)', 623, '25119', 44.8, '31'],\n",
       "       ['02880  Veikkola (Kirkkonummi)', 5781, '27977', 42.9, '172'],\n",
       "       ['02920  Niipperi (Espoo)', 5577, '28034', 35.9, '173'],\n",
       "       ['02940  Lippajärvi-Järvenperä (Espoo)', 10308, '27122', 36.7,\n",
       "        '411'],\n",
       "       ['02970  Kalajärvi (Espoo)', 3824, '27202', 38.9, '144'],\n",
       "       ['02980  Lakisto (Espoo)', 325, '21010', 45.6, '24']], dtype=object)"
      ]
     },
     "execution_count": 444,
     "metadata": {},
     "output_type": "execute_result"
    }
   ],
   "source": [
    "indicators_data['MedianIncome'] = indicators_data['MedianIncome'].astype(int)"
   ]
  },
  {
   "cell_type": "markdown",
   "id": "03e5b52f-ecfa-4565-98dd-e3d83ef7f34f",
   "metadata": {},
   "source": [
    "<b>6. Venues data from FourSquare</b>"
   ]
  },
  {
   "cell_type": "code",
   "execution_count": null,
   "id": "f479b073-695a-48de-8688-63d99d8b9cd4",
   "metadata": {},
   "outputs": [],
   "source": []
  },
  {
   "cell_type": "markdown",
   "id": "66b52bd5-6f59-4ac0-85ae-16e80a903f3a",
   "metadata": {},
   "source": [
    "<b>7. Combining the data</b>"
   ]
  },
  {
   "cell_type": "code",
   "execution_count": null,
   "id": "58c81f78-67af-4487-8248-47d0b01bd28f",
   "metadata": {},
   "outputs": [],
   "source": []
  }
 ],
 "metadata": {
  "kernelspec": {
   "display_name": "Python 3",
   "language": "python",
   "name": "python3"
  },
  "language_info": {
   "codemirror_mode": {
    "name": "ipython",
    "version": 3
   },
   "file_extension": ".py",
   "mimetype": "text/x-python",
   "name": "python",
   "nbconvert_exporter": "python",
   "pygments_lexer": "ipython3",
   "version": "3.8.5"
  }
 },
 "nbformat": 4,
 "nbformat_minor": 5
}
